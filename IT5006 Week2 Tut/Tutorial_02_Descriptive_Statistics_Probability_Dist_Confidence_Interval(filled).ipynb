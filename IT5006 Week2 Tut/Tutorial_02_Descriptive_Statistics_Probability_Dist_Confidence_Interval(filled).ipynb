{
 "cells": [
  {
   "cell_type": "markdown",
   "metadata": {
    "id": "HcwePvKpw6-3"
   },
   "source": [
    "# Tutorial 2 (Week 2) - Descriptive Statistics and Hypothesis Testing\n",
    "\n",
    "## Learning Objectives\n",
    "\n",
    "After completing this tutorial, you should be able to:\n",
    "\n",
    "+ Manipulate NumPy and Pandas data structures for statistics computation\n",
    "  + Group the dataset by variable values\n",
    "  + Filter the dataset for specific variable values\n",
    "+ Compute descriptive statistics for a dataset\n",
    "  + Compute statistics on arrays, Series, and DataFrame\n",
    "  + Apply statistical measures for decision making\n",
    "+ Fit a probability distribution to a dataset and estimate the parameters using SciPy\n",
    "+ Perform hypothesis testing using SciPy"
   ]
  },
  {
   "cell_type": "markdown",
   "metadata": {
    "id": "--SWM-0gj8MA"
   },
   "source": [
    "# Preface: Handling Data in Pandas and NumPy\n",
    "\n",
    "In Tutorial 1, we have used Pandas DataFrames and NumPy arrays in creating visualizations. We will now look at these data structures in more details so that we can perform more advanced operations with our data.\n",
    "\n",
    "_Tips:_ Throughout the tutorial, we will encounter various functions and properties in Pandas and NumPy. It is recommended that you make it a habit to look up the documentation (API reference and usage examples) of those you are not yet familiar with. This way, you form a better understanding of how you can use them in future, beyond the example problems in this tutorial.\n",
    "\n",
    "In Jupyter Notebook, the references are conveniently linked under the `Help` menu."
   ]
  },
  {
   "cell_type": "code",
   "execution_count": 26,
   "metadata": {},
   "outputs": [],
   "source": [
    "import numpy as np\n",
    "import pandas as pd"
   ]
  },
  {
   "cell_type": "markdown",
   "metadata": {
    "id": "--SWM-0gj8MA"
   },
   "source": [
    "## NumPy Arrays\n",
    "\n",
    "NumPy is a fundamental package for scientific computing in Python. The main object in NumPy is `ndarray`, also known by the alias `array`. \n",
    "\n",
    "Numpy `array` is a table of elements (usually numbers), which is:\n",
    "- _Homogeneous_: elements are all of the same type;\n",
    "- _Multi-dimensional_: elements can be arranged into more than one __axes__;\n",
    "- _Indexed_: elements are addressable by a tuple of integers, one on each axis.\n",
    "\n",
    "The following image ([source](https://predictivehacks.com/tips-about-numpy-arrays/)) illustrates the array structure.\n",
    "\n",
    "<img src=\"https://predictivehacks.com/wp-content/uploads/2020/08/numpy_arrays-1024x572.png\" width=\"500\">\n",
    "\n",
    "Note that `numpy.array` is not the same as the Standard Python Library class `array.array`, which only handles one-dimensional arrays.\n",
    "\n",
    "Sample basic operations on numpy arrays are given below. Try running the codes and make sure you understand the output. You can go to [NumPy quickstart](https://numpy.org/doc/stable/user/quickstart.html) for more examples and practice.\n",
    "\n",
    "There are various ways to __create arrays__."
   ]
  },
  {
   "cell_type": "code",
   "execution_count": 27,
   "metadata": {},
   "outputs": [
    {
     "data": {
      "text/plain": [
       "array([1, 2, 3, 4, 5])"
      ]
     },
     "execution_count": 27,
     "metadata": {},
     "output_type": "execute_result"
    }
   ],
   "source": [
    "np.array((1,2,3,4,5))"
   ]
  },
  {
   "cell_type": "code",
   "execution_count": 28,
   "metadata": {},
   "outputs": [
    {
     "data": {
      "text/plain": [
       "array([[[ 0,  1],\n",
       "        [ 2,  3],\n",
       "        [ 4,  5]],\n",
       "\n",
       "       [[ 6,  7],\n",
       "        [ 8,  9],\n",
       "        [10, 11]],\n",
       "\n",
       "       [[12, 13],\n",
       "        [14, 15],\n",
       "        [16, 17]],\n",
       "\n",
       "       [[18, 19],\n",
       "        [20, 21],\n",
       "        [22, 23]]])"
      ]
     },
     "execution_count": 28,
     "metadata": {},
     "output_type": "execute_result"
    }
   ],
   "source": [
    "# One of many ways to create an array\n",
    "a = np.arange(24).reshape(4, 3, 2)\n",
    "a"
   ]
  },
  {
   "cell_type": "markdown",
   "metadata": {},
   "source": [
    "Take note of the array notation, and compare the above array display with the conceptual illustration to understand how it is represented in NumPy.\n",
    "\n",
    "Some __properties:__"
   ]
  },
  {
   "cell_type": "code",
   "execution_count": 29,
   "metadata": {},
   "outputs": [
    {
     "data": {
      "text/plain": [
       "(4, 3, 2)"
      ]
     },
     "execution_count": 29,
     "metadata": {},
     "output_type": "execute_result"
    }
   ],
   "source": [
    "a.shape"
   ]
  },
  {
   "cell_type": "code",
   "execution_count": 30,
   "metadata": {},
   "outputs": [
    {
     "data": {
      "text/plain": [
       "3"
      ]
     },
     "execution_count": 30,
     "metadata": {},
     "output_type": "execute_result"
    }
   ],
   "source": [
    "a.ndim"
   ]
  },
  {
   "cell_type": "code",
   "execution_count": 31,
   "metadata": {},
   "outputs": [
    {
     "data": {
      "text/plain": [
       "24"
      ]
     },
     "execution_count": 31,
     "metadata": {},
     "output_type": "execute_result"
    }
   ],
   "source": [
    "a.size"
   ]
  },
  {
   "cell_type": "markdown",
   "metadata": {},
   "source": [
    "There are several methods to create arrays with __initialized content__."
   ]
  },
  {
   "cell_type": "code",
   "execution_count": 32,
   "metadata": {},
   "outputs": [
    {
     "data": {
      "text/plain": [
       "array([[0., 0., 0., 0., 0.],\n",
       "       [0., 0., 0., 0., 0.],\n",
       "       [0., 0., 0., 0., 0.]])"
      ]
     },
     "execution_count": 32,
     "metadata": {},
     "output_type": "execute_result"
    }
   ],
   "source": [
    "np.zeros( (3,5) )"
   ]
  },
  {
   "cell_type": "code",
   "execution_count": 33,
   "metadata": {},
   "outputs": [
    {
     "data": {
      "text/plain": [
       "array([[0.25, 0.25, 0.25, 0.25, 0.25],\n",
       "       [0.25, 0.25, 0.25, 0.25, 0.25],\n",
       "       [0.25, 0.25, 0.25, 0.25, 0.25]])"
      ]
     },
     "execution_count": 33,
     "metadata": {},
     "output_type": "execute_result"
    }
   ],
   "source": [
    "np.full( (3,5), 0.25 )"
   ]
  },
  {
   "cell_type": "code",
   "execution_count": 34,
   "metadata": {},
   "outputs": [
    {
     "data": {
      "text/plain": [
       "array([[0.12535049, 0.08610582, 0.90425464, 0.45464822, 0.94104965],\n",
       "       [0.79902814, 0.02190956, 0.8399814 , 0.78853886, 0.14672621],\n",
       "       [0.00165116, 0.82747473, 0.65625591, 0.05362071, 0.61132453]])"
      ]
     },
     "execution_count": 34,
     "metadata": {},
     "output_type": "execute_result"
    }
   ],
   "source": [
    "np.random.rand( 3, 5 )"
   ]
  },
  {
   "cell_type": "markdown",
   "metadata": {},
   "source": [
    "__Indexing__ operation retrieves the array element at `index`. For multi-dimensional arrays, `index` is a comma-separated tuple with one component for each axis. A negative component means counting from the last element on the axis."
   ]
  },
  {
   "cell_type": "code",
   "execution_count": 35,
   "metadata": {
    "id": "--SWM-0gj8MA"
   },
   "outputs": [
    {
     "data": {
      "text/plain": [
       "23"
      ]
     },
     "execution_count": 35,
     "metadata": {},
     "output_type": "execute_result"
    }
   ],
   "source": [
    "a[3,2,1]"
   ]
  },
  {
   "cell_type": "code",
   "execution_count": 36,
   "metadata": {
    "id": "--SWM-0gj8MA"
   },
   "outputs": [
    {
     "data": {
      "text/plain": [
       "21"
      ]
     },
     "execution_count": 36,
     "metadata": {},
     "output_type": "execute_result"
    }
   ],
   "source": [
    "a[3,-2,1]"
   ]
  },
  {
   "cell_type": "markdown",
   "metadata": {},
   "source": [
    "__Slicing__ operation takes a range `start:stop` and returns a contiguous subset of array elements from `start` (_inclusive_) to `stop` (_exclusive_). Leaving `start` blank means slicing from the first element, while leaving `stop` blank means slicing until and including the last element.\n",
    "\n",
    "The slicer can take an optional third argument, making it `start:stop:step`, to set the interval at which elements are included in the slice. A negative step reverses the direction of the stepping."
   ]
  },
  {
   "cell_type": "code",
   "execution_count": 37,
   "metadata": {
    "id": "--SWM-0gj8MA"
   },
   "outputs": [
    {
     "data": {
      "text/plain": [
       "array([21])"
      ]
     },
     "execution_count": 37,
     "metadata": {},
     "output_type": "execute_result"
    }
   ],
   "source": [
    "a[3,1:2,1]"
   ]
  },
  {
   "cell_type": "code",
   "execution_count": 38,
   "metadata": {
    "id": "--SWM-0gj8MA"
   },
   "outputs": [
    {
     "data": {
      "text/plain": [
       "array([21, 23])"
      ]
     },
     "execution_count": 38,
     "metadata": {},
     "output_type": "execute_result"
    }
   ],
   "source": [
    "a[3,1:,1]"
   ]
  },
  {
   "cell_type": "code",
   "execution_count": 39,
   "metadata": {
    "id": "--SWM-0gj8MA"
   },
   "outputs": [
    {
     "data": {
      "text/plain": [
       "array([[ 1,  3,  5],\n",
       "       [13, 15, 17]])"
      ]
     },
     "execution_count": 39,
     "metadata": {},
     "output_type": "execute_result"
    }
   ],
   "source": [
    "a[::2,:,1]"
   ]
  },
  {
   "cell_type": "markdown",
   "metadata": {},
   "source": [
    "Conceptually, indexing returns an _element_ of the array, while slicing returns a _subset_ of the array. \n",
    "\n",
    "- A subset of an array is always another array. \n",
    "\n",
    "- An element of a 1D array is simply a value; an element of a 2D array is a 1D array, and so on. \n",
    "\n",
    "The indexing operation essentially narrows down to the element axis by axis, from axis 0 upwards. \n",
    "\n",
    "We can omit index components for higher axes (that is, stop narrowing down at one point) to retrieve all elements on remaining axes. This is equivalent to getting a complete slice of all remaining axes."
   ]
  },
  {
   "cell_type": "code",
   "execution_count": 40,
   "metadata": {
    "id": "--SWM-0gj8MA"
   },
   "outputs": [
    {
     "data": {
      "text/plain": [
       "array([22, 23])"
      ]
     },
     "execution_count": 40,
     "metadata": {},
     "output_type": "execute_result"
    }
   ],
   "source": [
    "a[3,2]"
   ]
  },
  {
   "cell_type": "code",
   "execution_count": 41,
   "metadata": {
    "id": "--SWM-0gj8MA"
   },
   "outputs": [
    {
     "data": {
      "text/plain": [
       "array([22, 23])"
      ]
     },
     "execution_count": 41,
     "metadata": {},
     "output_type": "execute_result"
    }
   ],
   "source": [
    "a[3,2,:]"
   ]
  },
  {
   "cell_type": "code",
   "execution_count": 42,
   "metadata": {
    "id": "--SWM-0gj8MA"
   },
   "outputs": [
    {
     "data": {
      "text/plain": [
       "array([[18, 19],\n",
       "       [20, 21],\n",
       "       [22, 23]])"
      ]
     },
     "execution_count": 42,
     "metadata": {},
     "output_type": "execute_result"
    }
   ],
   "source": [
    "a[3]"
   ]
  },
  {
   "cell_type": "code",
   "execution_count": 43,
   "metadata": {
    "id": "--SWM-0gj8MA"
   },
   "outputs": [
    {
     "data": {
      "text/plain": [
       "array([[18, 19],\n",
       "       [20, 21],\n",
       "       [22, 23]])"
      ]
     },
     "execution_count": 43,
     "metadata": {},
     "output_type": "execute_result"
    }
   ],
   "source": [
    "a[3,:,:]"
   ]
  },
  {
   "cell_type": "markdown",
   "metadata": {},
   "source": [
    "__Try this out:__ \n",
    "\n",
    "- Can you omit index components for lower axes (while specifying one or more higher axes index)? What elements do this retrieve? How is it different from slicing?\n",
    "\n",
    "- Can you omit index components for arbitrary axes (while specifying other axes index)? What elements do this retrieve? How is it different from slicing?"
   ]
  },
  {
   "cell_type": "code",
   "execution_count": 44,
   "metadata": {},
   "outputs": [],
   "source": [
    "# Try!"
   ]
  },
  {
   "cell_type": "markdown",
   "metadata": {},
   "source": [
    "_Omitting index components of lower or arbitrary axes is disallowed as it will result in invalid indexing. \n",
    "E.g., how would one interpret `a[3,,1]`? Which element of `a[3]` to take? \n",
    "This is different from slicing, which has a standard interpretation of omitted components: empty start means 0, empty stop means end+1._"
   ]
  },
  {
   "cell_type": "markdown",
   "metadata": {},
   "source": [
    "__Arithmetic operations__ on arrays are applied _element-wise_."
   ]
  },
  {
   "cell_type": "code",
   "execution_count": 45,
   "metadata": {},
   "outputs": [
    {
     "data": {
      "text/plain": [
       "array([[[ 0,  1],\n",
       "        [ 2,  3],\n",
       "        [ 4,  5]],\n",
       "\n",
       "       [[ 6,  7],\n",
       "        [ 8,  9],\n",
       "        [10, 11]],\n",
       "\n",
       "       [[12, 13],\n",
       "        [14, 15],\n",
       "        [16, 17]],\n",
       "\n",
       "       [[18, 19],\n",
       "        [20, 21],\n",
       "        [22, 23]]])"
      ]
     },
     "execution_count": 45,
     "metadata": {},
     "output_type": "execute_result"
    }
   ],
   "source": [
    "a"
   ]
  },
  {
   "cell_type": "code",
   "execution_count": 46,
   "metadata": {},
   "outputs": [
    {
     "data": {
      "text/plain": [
       "array([[[ 0,  2],\n",
       "        [ 4,  6],\n",
       "        [ 8, 10]],\n",
       "\n",
       "       [[12, 14],\n",
       "        [16, 18],\n",
       "        [20, 22]],\n",
       "\n",
       "       [[24, 26],\n",
       "        [28, 30],\n",
       "        [32, 34]],\n",
       "\n",
       "       [[36, 38],\n",
       "        [40, 42],\n",
       "        [44, 46]]])"
      ]
     },
     "execution_count": 46,
     "metadata": {},
     "output_type": "execute_result"
    }
   ],
   "source": [
    "a*2"
   ]
  },
  {
   "cell_type": "code",
   "execution_count": 47,
   "metadata": {},
   "outputs": [
    {
     "data": {
      "text/plain": [
       "array([[[ True,  True],\n",
       "        [ True,  True],\n",
       "        [ True,  True]],\n",
       "\n",
       "       [[ True, False],\n",
       "        [False, False],\n",
       "        [False, False]],\n",
       "\n",
       "       [[False, False],\n",
       "        [False, False],\n",
       "        [False, False]],\n",
       "\n",
       "       [[False, False],\n",
       "        [False, False],\n",
       "        [False, False]]])"
      ]
     },
     "execution_count": 47,
     "metadata": {},
     "output_type": "execute_result"
    }
   ],
   "source": [
    "a < 7"
   ]
  },
  {
   "cell_type": "markdown",
   "metadata": {
    "id": "--SWM-0gj8MA"
   },
   "source": [
    "## Pandas Series and DataFrame\n",
    "\n",
    "Pandas data table representation is __DataFrame__, a 2-dimensional data structure that can store data of different types in columns.\n",
    "\n",
    "<img src = \"https://pandas.pydata.org/pandas-docs/stable/_images/01_table_dataframe.svg\" width=\"360\">\n",
    "\n",
    "Each column in a DataFrame is a __Series__, a one-dimensional labeled array consisting of _index_ (the axis label) and data values. A Series object has a single data type, which can be any supported [`dtype`](https://pandas.pydata.org/docs/user_guide/basics.html#basics-dtypes) (integers, strings, Python objects, etc.).\n",
    "\n",
    "<img src = \"https://pandas.pydata.org/pandas-docs/stable/_images/01_table_series.svg\" width=\"120\">\n",
    "\n",
    "Sample basic operations on Series and DataFrame are given below. Try running the codes and make sure you understand the output. You can refer to [Pandas User Guide on data structures](https://pandas.pydata.org/docs/user_guide/dsintro.html) for more comprehensive guides.\n",
    "\n",
    "\n",
    "### Series Operations\n",
    "\n",
    "There are various ways to __create a Series__, such as from a NumPy array. We can specify the index or leave it as the default integer-based index."
   ]
  },
  {
   "cell_type": "code",
   "execution_count": 48,
   "metadata": {
    "scrolled": true
   },
   "outputs": [
    {
     "data": {
      "text/plain": [
       "a    0.648831\n",
       "b    0.425606\n",
       "c    0.404456\n",
       "d    0.294330\n",
       "e    0.192722\n",
       "dtype: float64"
      ]
     },
     "execution_count": 48,
     "metadata": {},
     "output_type": "execute_result"
    }
   ],
   "source": [
    "s = pd.Series( np.random.rand(5), index=[\"a\", \"b\", \"c\", \"d\", \"e\"] )\n",
    "s"
   ]
  },
  {
   "cell_type": "markdown",
   "metadata": {
    "id": "--SWM-0gj8MA"
   },
   "source": [
    "The concepts of indexing, slicing, and element-wise arithmetic operations also apply to Series, with some differences in application compared to NumPy arrays. Various [indexing methods](https://pandas.pydata.org/docs/user_guide/indexing.html) are supported.\n",
    "\n",
    "__Indexing__ may use the index label or the integer position."
   ]
  },
  {
   "cell_type": "code",
   "execution_count": 49,
   "metadata": {},
   "outputs": [
    {
     "data": {
      "text/plain": [
       "0.6488310438031235"
      ]
     },
     "execution_count": 49,
     "metadata": {},
     "output_type": "execute_result"
    }
   ],
   "source": [
    "s['a']"
   ]
  },
  {
   "cell_type": "code",
   "execution_count": 50,
   "metadata": {
    "scrolled": true
   },
   "outputs": [
    {
     "ename": "KeyError",
     "evalue": "'p'",
     "output_type": "error",
     "traceback": [
      "\u001b[1;31m---------------------------------------------------------------------------\u001b[0m",
      "\u001b[1;31mKeyError\u001b[0m                                  Traceback (most recent call last)",
      "File \u001b[1;32m~\\AppData\\Local\\Programs\\Python\\Python311\\Lib\\site-packages\\pandas\\core\\indexes\\base.py:3790\u001b[0m, in \u001b[0;36mIndex.get_loc\u001b[1;34m(self, key)\u001b[0m\n\u001b[0;32m   3789\u001b[0m \u001b[38;5;28;01mtry\u001b[39;00m:\n\u001b[1;32m-> 3790\u001b[0m     \u001b[38;5;28;01mreturn\u001b[39;00m \u001b[38;5;28;43mself\u001b[39;49m\u001b[38;5;241;43m.\u001b[39;49m\u001b[43m_engine\u001b[49m\u001b[38;5;241;43m.\u001b[39;49m\u001b[43mget_loc\u001b[49m\u001b[43m(\u001b[49m\u001b[43mcasted_key\u001b[49m\u001b[43m)\u001b[49m\n\u001b[0;32m   3791\u001b[0m \u001b[38;5;28;01mexcept\u001b[39;00m \u001b[38;5;167;01mKeyError\u001b[39;00m \u001b[38;5;28;01mas\u001b[39;00m err:\n",
      "File \u001b[1;32mindex.pyx:152\u001b[0m, in \u001b[0;36mpandas._libs.index.IndexEngine.get_loc\u001b[1;34m()\u001b[0m\n",
      "File \u001b[1;32mindex.pyx:181\u001b[0m, in \u001b[0;36mpandas._libs.index.IndexEngine.get_loc\u001b[1;34m()\u001b[0m\n",
      "File \u001b[1;32mpandas\\_libs\\hashtable_class_helper.pxi:7080\u001b[0m, in \u001b[0;36mpandas._libs.hashtable.PyObjectHashTable.get_item\u001b[1;34m()\u001b[0m\n",
      "File \u001b[1;32mpandas\\_libs\\hashtable_class_helper.pxi:7088\u001b[0m, in \u001b[0;36mpandas._libs.hashtable.PyObjectHashTable.get_item\u001b[1;34m()\u001b[0m\n",
      "\u001b[1;31mKeyError\u001b[0m: 'p'",
      "\nThe above exception was the direct cause of the following exception:\n",
      "\u001b[1;31mKeyError\u001b[0m                                  Traceback (most recent call last)",
      "Cell \u001b[1;32mIn[50], line 1\u001b[0m\n\u001b[1;32m----> 1\u001b[0m \u001b[43ms\u001b[49m\u001b[43m[\u001b[49m\u001b[38;5;124;43m'\u001b[39;49m\u001b[38;5;124;43mp\u001b[39;49m\u001b[38;5;124;43m'\u001b[39;49m\u001b[43m]\u001b[49m\n",
      "File \u001b[1;32m~\\AppData\\Local\\Programs\\Python\\Python311\\Lib\\site-packages\\pandas\\core\\series.py:1040\u001b[0m, in \u001b[0;36mSeries.__getitem__\u001b[1;34m(self, key)\u001b[0m\n\u001b[0;32m   1037\u001b[0m     \u001b[38;5;28;01mreturn\u001b[39;00m \u001b[38;5;28mself\u001b[39m\u001b[38;5;241m.\u001b[39m_values[key]\n\u001b[0;32m   1039\u001b[0m \u001b[38;5;28;01melif\u001b[39;00m key_is_scalar:\n\u001b[1;32m-> 1040\u001b[0m     \u001b[38;5;28;01mreturn\u001b[39;00m \u001b[38;5;28;43mself\u001b[39;49m\u001b[38;5;241;43m.\u001b[39;49m\u001b[43m_get_value\u001b[49m\u001b[43m(\u001b[49m\u001b[43mkey\u001b[49m\u001b[43m)\u001b[49m\n\u001b[0;32m   1042\u001b[0m \u001b[38;5;66;03m# Convert generator to list before going through hashable part\u001b[39;00m\n\u001b[0;32m   1043\u001b[0m \u001b[38;5;66;03m# (We will iterate through the generator there to check for slices)\u001b[39;00m\n\u001b[0;32m   1044\u001b[0m \u001b[38;5;28;01mif\u001b[39;00m is_iterator(key):\n",
      "File \u001b[1;32m~\\AppData\\Local\\Programs\\Python\\Python311\\Lib\\site-packages\\pandas\\core\\series.py:1156\u001b[0m, in \u001b[0;36mSeries._get_value\u001b[1;34m(self, label, takeable)\u001b[0m\n\u001b[0;32m   1153\u001b[0m     \u001b[38;5;28;01mreturn\u001b[39;00m \u001b[38;5;28mself\u001b[39m\u001b[38;5;241m.\u001b[39m_values[label]\n\u001b[0;32m   1155\u001b[0m \u001b[38;5;66;03m# Similar to Index.get_value, but we do not fall back to positional\u001b[39;00m\n\u001b[1;32m-> 1156\u001b[0m loc \u001b[38;5;241m=\u001b[39m \u001b[38;5;28;43mself\u001b[39;49m\u001b[38;5;241;43m.\u001b[39;49m\u001b[43mindex\u001b[49m\u001b[38;5;241;43m.\u001b[39;49m\u001b[43mget_loc\u001b[49m\u001b[43m(\u001b[49m\u001b[43mlabel\u001b[49m\u001b[43m)\u001b[49m\n\u001b[0;32m   1158\u001b[0m \u001b[38;5;28;01mif\u001b[39;00m is_integer(loc):\n\u001b[0;32m   1159\u001b[0m     \u001b[38;5;28;01mreturn\u001b[39;00m \u001b[38;5;28mself\u001b[39m\u001b[38;5;241m.\u001b[39m_values[loc]\n",
      "File \u001b[1;32m~\\AppData\\Local\\Programs\\Python\\Python311\\Lib\\site-packages\\pandas\\core\\indexes\\base.py:3797\u001b[0m, in \u001b[0;36mIndex.get_loc\u001b[1;34m(self, key)\u001b[0m\n\u001b[0;32m   3792\u001b[0m     \u001b[38;5;28;01mif\u001b[39;00m \u001b[38;5;28misinstance\u001b[39m(casted_key, \u001b[38;5;28mslice\u001b[39m) \u001b[38;5;129;01mor\u001b[39;00m (\n\u001b[0;32m   3793\u001b[0m         \u001b[38;5;28misinstance\u001b[39m(casted_key, abc\u001b[38;5;241m.\u001b[39mIterable)\n\u001b[0;32m   3794\u001b[0m         \u001b[38;5;129;01mand\u001b[39;00m \u001b[38;5;28many\u001b[39m(\u001b[38;5;28misinstance\u001b[39m(x, \u001b[38;5;28mslice\u001b[39m) \u001b[38;5;28;01mfor\u001b[39;00m x \u001b[38;5;129;01min\u001b[39;00m casted_key)\n\u001b[0;32m   3795\u001b[0m     ):\n\u001b[0;32m   3796\u001b[0m         \u001b[38;5;28;01mraise\u001b[39;00m InvalidIndexError(key)\n\u001b[1;32m-> 3797\u001b[0m     \u001b[38;5;28;01mraise\u001b[39;00m \u001b[38;5;167;01mKeyError\u001b[39;00m(key) \u001b[38;5;28;01mfrom\u001b[39;00m \u001b[38;5;21;01merr\u001b[39;00m\n\u001b[0;32m   3798\u001b[0m \u001b[38;5;28;01mexcept\u001b[39;00m \u001b[38;5;167;01mTypeError\u001b[39;00m:\n\u001b[0;32m   3799\u001b[0m     \u001b[38;5;66;03m# If we have a listlike key, _check_indexing_error will raise\u001b[39;00m\n\u001b[0;32m   3800\u001b[0m     \u001b[38;5;66;03m#  InvalidIndexError. Otherwise we fall through and re-raise\u001b[39;00m\n\u001b[0;32m   3801\u001b[0m     \u001b[38;5;66;03m#  the TypeError.\u001b[39;00m\n\u001b[0;32m   3802\u001b[0m     \u001b[38;5;28mself\u001b[39m\u001b[38;5;241m.\u001b[39m_check_indexing_error(key)\n",
      "\u001b[1;31mKeyError\u001b[0m: 'p'"
     ]
    }
   ],
   "source": [
    "s['p']"
   ]
  },
  {
   "cell_type": "code",
   "execution_count": 51,
   "metadata": {},
   "outputs": [
    {
     "data": {
      "text/plain": [
       "1"
      ]
     },
     "execution_count": 51,
     "metadata": {},
     "output_type": "execute_result"
    }
   ],
   "source": [
    "d = {\"a\": 1}\n",
    "d.get(\"a\")"
   ]
  },
  {
   "cell_type": "markdown",
   "metadata": {},
   "source": [
    "The `Series.get()` method avoids throwing error for invalid labels."
   ]
  },
  {
   "cell_type": "code",
   "execution_count": 52,
   "metadata": {},
   "outputs": [
    {
     "data": {
      "text/plain": [
       "0.6488310438031235"
      ]
     },
     "execution_count": 52,
     "metadata": {},
     "output_type": "execute_result"
    }
   ],
   "source": [
    "s.get('a', 123)"
   ]
  },
  {
   "cell_type": "code",
   "execution_count": 53,
   "metadata": {},
   "outputs": [],
   "source": [
    "s.get('f')  # What happens?"
   ]
  },
  {
   "cell_type": "code",
   "execution_count": 54,
   "metadata": {},
   "outputs": [
    {
     "name": "stdout",
     "output_type": "stream",
     "text": [
      "None\n"
     ]
    }
   ],
   "source": [
    "print( s.get('f') )"
   ]
  },
  {
   "cell_type": "markdown",
   "metadata": {},
   "source": [
    "__Slicing__ with a range is applied on the Series data as well as the index."
   ]
  },
  {
   "cell_type": "code",
   "execution_count": 55,
   "metadata": {},
   "outputs": [
    {
     "data": {
      "text/plain": [
       "c    0.404456\n",
       "d    0.294330\n",
       "dtype: float64"
      ]
     },
     "execution_count": 55,
     "metadata": {},
     "output_type": "execute_result"
    }
   ],
   "source": [
    "s[2:4]"
   ]
  },
  {
   "cell_type": "code",
   "execution_count": 56,
   "metadata": {},
   "outputs": [
    {
     "data": {
      "text/plain": [
       "a    0.648831\n",
       "c    0.404456\n",
       "e    0.192722\n",
       "dtype: float64"
      ]
     },
     "execution_count": 56,
     "metadata": {},
     "output_type": "execute_result"
    }
   ],
   "source": [
    "s[::2]  # with step"
   ]
  },
  {
   "cell_type": "markdown",
   "metadata": {},
   "source": [
    "As Series has index labels, slicing can be done using labels as well, but the behaviour is different. Try this out."
   ]
  },
  {
   "cell_type": "code",
   "execution_count": 57,
   "metadata": {},
   "outputs": [
    {
     "data": {
      "text/plain": [
       "c    0.404456\n",
       "d    0.294330\n",
       "e    0.192722\n",
       "dtype: float64"
      ]
     },
     "execution_count": 57,
     "metadata": {},
     "output_type": "execute_result"
    }
   ],
   "source": [
    "s['c':'e']"
   ]
  },
  {
   "cell_type": "markdown",
   "metadata": {},
   "source": [
    "Unlike with NumPy arrays, __arbitrary non-contiguous slicing__ is possible. We can specify a list of labels."
   ]
  },
  {
   "cell_type": "code",
   "execution_count": 58,
   "metadata": {},
   "outputs": [
    {
     "data": {
      "text/plain": [
       "a    0.648831\n",
       "b    0.425606\n",
       "d    0.294330\n",
       "dtype: float64"
      ]
     },
     "execution_count": 58,
     "metadata": {},
     "output_type": "execute_result"
    }
   ],
   "source": [
    "# Note the inner [] for list notation\n",
    "s[['a','b','d']]"
   ]
  },
  {
   "cell_type": "markdown",
   "metadata": {},
   "source": [
    "We can also pass a boolean Series to pick elements corresponding to `True`-valued labels."
   ]
  },
  {
   "cell_type": "code",
   "execution_count": 59,
   "metadata": {},
   "outputs": [
    {
     "data": {
      "text/plain": [
       "a     True\n",
       "b     True\n",
       "c    False\n",
       "d    False\n",
       "e    False\n",
       "dtype: bool"
      ]
     },
     "execution_count": 59,
     "metadata": {},
     "output_type": "execute_result"
    }
   ],
   "source": [
    "s > s.median()"
   ]
  },
  {
   "cell_type": "code",
   "execution_count": 60,
   "metadata": {},
   "outputs": [
    {
     "name": "stdout",
     "output_type": "stream",
     "text": [
      "Median: 0.4044557787452422\n"
     ]
    },
    {
     "data": {
      "text/plain": [
       "a    0.648831\n",
       "b    0.425606\n",
       "dtype: float64"
      ]
     },
     "execution_count": 60,
     "metadata": {},
     "output_type": "execute_result"
    }
   ],
   "source": [
    "print( \"Median:\", s.median() )\n",
    "\n",
    "# The > operation is applied element-wise, resulting in a Series of boolean values\n",
    "s[ s > s.median() ]"
   ]
  },
  {
   "cell_type": "markdown",
   "metadata": {},
   "source": [
    "### DataFrame Operations\n",
    "\n",
    "Most of the time, the DataFrames we work with are the results of loading actual datasets. There are also other ways of __creating a DataFrame__, such as from a dict of Series."
   ]
  },
  {
   "cell_type": "code",
   "execution_count": 61,
   "metadata": {},
   "outputs": [
    {
     "data": {
      "text/html": [
       "<div>\n",
       "<style scoped>\n",
       "    .dataframe tbody tr th:only-of-type {\n",
       "        vertical-align: middle;\n",
       "    }\n",
       "\n",
       "    .dataframe tbody tr th {\n",
       "        vertical-align: top;\n",
       "    }\n",
       "\n",
       "    .dataframe thead th {\n",
       "        text-align: right;\n",
       "    }\n",
       "</style>\n",
       "<table border=\"1\" class=\"dataframe\">\n",
       "  <thead>\n",
       "    <tr style=\"text-align: right;\">\n",
       "      <th></th>\n",
       "      <th>one</th>\n",
       "      <th>two</th>\n",
       "    </tr>\n",
       "  </thead>\n",
       "  <tbody>\n",
       "    <tr>\n",
       "      <th>a</th>\n",
       "      <td>0.255558</td>\n",
       "      <td>Alice</td>\n",
       "    </tr>\n",
       "    <tr>\n",
       "      <th>b</th>\n",
       "      <td>0.168616</td>\n",
       "      <td>Bob</td>\n",
       "    </tr>\n",
       "    <tr>\n",
       "      <th>c</th>\n",
       "      <td>0.679456</td>\n",
       "      <td>Carol</td>\n",
       "    </tr>\n",
       "    <tr>\n",
       "      <th>d</th>\n",
       "      <td>0.817745</td>\n",
       "      <td>NaN</td>\n",
       "    </tr>\n",
       "    <tr>\n",
       "      <th>e</th>\n",
       "      <td>0.899642</td>\n",
       "      <td>NaN</td>\n",
       "    </tr>\n",
       "  </tbody>\n",
       "</table>\n",
       "</div>"
      ],
      "text/plain": [
       "        one    two\n",
       "a  0.255558  Alice\n",
       "b  0.168616    Bob\n",
       "c  0.679456  Carol\n",
       "d  0.817745    NaN\n",
       "e  0.899642    NaN"
      ]
     },
     "execution_count": 61,
     "metadata": {},
     "output_type": "execute_result"
    }
   ],
   "source": [
    "d = {\n",
    "    \"one\": pd.Series( np.random.rand(5), index=list('abcde') ),\n",
    "    \"two\": pd.Series( ['Alice', 'Bob', 'Carol'], index=list('abc') )  # different length\n",
    "}\n",
    "# Observe how the different Series lengths are handled\n",
    "df = pd.DataFrame(d)\n",
    "df"
   ]
  },
  {
   "cell_type": "markdown",
   "metadata": {},
   "source": [
    "__Select DataFrame columns__ by column name. The result is a Series, retaining the index. The column name is stored in the `name` attribute of the Series."
   ]
  },
  {
   "cell_type": "code",
   "execution_count": 62,
   "metadata": {},
   "outputs": [
    {
     "data": {
      "text/plain": [
       "a    0.255558\n",
       "b    0.168616\n",
       "c    0.679456\n",
       "d    0.817745\n",
       "e    0.899642\n",
       "Name: one, dtype: float64"
      ]
     },
     "execution_count": 62,
     "metadata": {},
     "output_type": "execute_result"
    }
   ],
   "source": [
    "df[\"one\"]"
   ]
  },
  {
   "cell_type": "markdown",
   "metadata": {},
   "source": [
    "__Select DataFrame rows__ by the row label using `df.loc`, or by the integer location using `df.iloc`. The result is also a Series, with the column names serving as index. The row label is stored in the `name` attribute of the Series."
   ]
  },
  {
   "cell_type": "code",
   "execution_count": 63,
   "metadata": {},
   "outputs": [
    {
     "data": {
      "text/plain": [
       "one    0.679456\n",
       "two       Carol\n",
       "Name: c, dtype: object"
      ]
     },
     "execution_count": 63,
     "metadata": {},
     "output_type": "execute_result"
    }
   ],
   "source": [
    "df.loc['c']"
   ]
  },
  {
   "cell_type": "code",
   "execution_count": 64,
   "metadata": {},
   "outputs": [
    {
     "data": {
      "text/plain": [
       "one    0.679456\n",
       "two       Carol\n",
       "Name: c, dtype: object"
      ]
     },
     "execution_count": 64,
     "metadata": {},
     "output_type": "execute_result"
    }
   ],
   "source": [
    "df.iloc[2]"
   ]
  },
  {
   "cell_type": "markdown",
   "metadata": {},
   "source": [
    "We can __add a new column__ to the DataFrame, e.g., from a Series. \n",
    "\n",
    "New columns are added at the end by default. `DataFrame.insert()` can be used to insert a column at a particular location."
   ]
  },
  {
   "cell_type": "code",
   "execution_count": 65,
   "metadata": {},
   "outputs": [
    {
     "data": {
      "text/html": [
       "<div>\n",
       "<style scoped>\n",
       "    .dataframe tbody tr th:only-of-type {\n",
       "        vertical-align: middle;\n",
       "    }\n",
       "\n",
       "    .dataframe tbody tr th {\n",
       "        vertical-align: top;\n",
       "    }\n",
       "\n",
       "    .dataframe thead th {\n",
       "        text-align: right;\n",
       "    }\n",
       "</style>\n",
       "<table border=\"1\" class=\"dataframe\">\n",
       "  <thead>\n",
       "    <tr style=\"text-align: right;\">\n",
       "      <th></th>\n",
       "      <th>one</th>\n",
       "      <th>two</th>\n",
       "    </tr>\n",
       "  </thead>\n",
       "  <tbody>\n",
       "    <tr>\n",
       "      <th>a</th>\n",
       "      <td>0.255558</td>\n",
       "      <td>Alice</td>\n",
       "    </tr>\n",
       "    <tr>\n",
       "      <th>b</th>\n",
       "      <td>0.168616</td>\n",
       "      <td>Bob</td>\n",
       "    </tr>\n",
       "    <tr>\n",
       "      <th>c</th>\n",
       "      <td>0.679456</td>\n",
       "      <td>Carol</td>\n",
       "    </tr>\n",
       "    <tr>\n",
       "      <th>d</th>\n",
       "      <td>0.817745</td>\n",
       "      <td>NaN</td>\n",
       "    </tr>\n",
       "    <tr>\n",
       "      <th>e</th>\n",
       "      <td>0.899642</td>\n",
       "      <td>NaN</td>\n",
       "    </tr>\n",
       "  </tbody>\n",
       "</table>\n",
       "</div>"
      ],
      "text/plain": [
       "        one    two\n",
       "a  0.255558  Alice\n",
       "b  0.168616    Bob\n",
       "c  0.679456  Carol\n",
       "d  0.817745    NaN\n",
       "e  0.899642    NaN"
      ]
     },
     "execution_count": 65,
     "metadata": {},
     "output_type": "execute_result"
    }
   ],
   "source": [
    "df"
   ]
  },
  {
   "cell_type": "code",
   "execution_count": 66,
   "metadata": {},
   "outputs": [
    {
     "data": {
      "text/html": [
       "<div>\n",
       "<style scoped>\n",
       "    .dataframe tbody tr th:only-of-type {\n",
       "        vertical-align: middle;\n",
       "    }\n",
       "\n",
       "    .dataframe tbody tr th {\n",
       "        vertical-align: top;\n",
       "    }\n",
       "\n",
       "    .dataframe thead th {\n",
       "        text-align: right;\n",
       "    }\n",
       "</style>\n",
       "<table border=\"1\" class=\"dataframe\">\n",
       "  <thead>\n",
       "    <tr style=\"text-align: right;\">\n",
       "      <th></th>\n",
       "      <th>one</th>\n",
       "      <th>two</th>\n",
       "      <th>flag</th>\n",
       "    </tr>\n",
       "  </thead>\n",
       "  <tbody>\n",
       "    <tr>\n",
       "      <th>a</th>\n",
       "      <td>0.255558</td>\n",
       "      <td>Alice</td>\n",
       "      <td>1.0</td>\n",
       "    </tr>\n",
       "    <tr>\n",
       "      <th>b</th>\n",
       "      <td>0.168616</td>\n",
       "      <td>Bob</td>\n",
       "      <td>1.0</td>\n",
       "    </tr>\n",
       "    <tr>\n",
       "      <th>c</th>\n",
       "      <td>0.679456</td>\n",
       "      <td>Carol</td>\n",
       "      <td>1.0</td>\n",
       "    </tr>\n",
       "    <tr>\n",
       "      <th>d</th>\n",
       "      <td>0.817745</td>\n",
       "      <td>NaN</td>\n",
       "      <td>1.0</td>\n",
       "    </tr>\n",
       "    <tr>\n",
       "      <th>e</th>\n",
       "      <td>0.899642</td>\n",
       "      <td>NaN</td>\n",
       "      <td>1.0</td>\n",
       "    </tr>\n",
       "  </tbody>\n",
       "</table>\n",
       "</div>"
      ],
      "text/plain": [
       "        one    two  flag\n",
       "a  0.255558  Alice   1.0\n",
       "b  0.168616    Bob   1.0\n",
       "c  0.679456  Carol   1.0\n",
       "d  0.817745    NaN   1.0\n",
       "e  0.899642    NaN   1.0"
      ]
     },
     "execution_count": 66,
     "metadata": {},
     "output_type": "execute_result"
    }
   ],
   "source": [
    "df[\"flag\"] = pd.Series( np.ones(5), index=list('abcde') )\n",
    "df"
   ]
  },
  {
   "cell_type": "code",
   "execution_count": 67,
   "metadata": {},
   "outputs": [
    {
     "data": {
      "text/html": [
       "<div>\n",
       "<style scoped>\n",
       "    .dataframe tbody tr th:only-of-type {\n",
       "        vertical-align: middle;\n",
       "    }\n",
       "\n",
       "    .dataframe tbody tr th {\n",
       "        vertical-align: top;\n",
       "    }\n",
       "\n",
       "    .dataframe thead th {\n",
       "        text-align: right;\n",
       "    }\n",
       "</style>\n",
       "<table border=\"1\" class=\"dataframe\">\n",
       "  <thead>\n",
       "    <tr style=\"text-align: right;\">\n",
       "      <th></th>\n",
       "      <th>one</th>\n",
       "      <th>two</th>\n",
       "      <th>three</th>\n",
       "      <th>flag</th>\n",
       "    </tr>\n",
       "  </thead>\n",
       "  <tbody>\n",
       "    <tr>\n",
       "      <th>a</th>\n",
       "      <td>0.255558</td>\n",
       "      <td>Alice</td>\n",
       "      <td>0.744442</td>\n",
       "      <td>1.0</td>\n",
       "    </tr>\n",
       "    <tr>\n",
       "      <th>b</th>\n",
       "      <td>0.168616</td>\n",
       "      <td>Bob</td>\n",
       "      <td>0.831384</td>\n",
       "      <td>1.0</td>\n",
       "    </tr>\n",
       "    <tr>\n",
       "      <th>c</th>\n",
       "      <td>0.679456</td>\n",
       "      <td>Carol</td>\n",
       "      <td>0.320544</td>\n",
       "      <td>1.0</td>\n",
       "    </tr>\n",
       "    <tr>\n",
       "      <th>d</th>\n",
       "      <td>0.817745</td>\n",
       "      <td>NaN</td>\n",
       "      <td>0.182255</td>\n",
       "      <td>1.0</td>\n",
       "    </tr>\n",
       "    <tr>\n",
       "      <th>e</th>\n",
       "      <td>0.899642</td>\n",
       "      <td>NaN</td>\n",
       "      <td>0.100358</td>\n",
       "      <td>1.0</td>\n",
       "    </tr>\n",
       "  </tbody>\n",
       "</table>\n",
       "</div>"
      ],
      "text/plain": [
       "        one    two     three  flag\n",
       "a  0.255558  Alice  0.744442   1.0\n",
       "b  0.168616    Bob  0.831384   1.0\n",
       "c  0.679456  Carol  0.320544   1.0\n",
       "d  0.817745    NaN  0.182255   1.0\n",
       "e  0.899642    NaN  0.100358   1.0"
      ]
     },
     "execution_count": 67,
     "metadata": {},
     "output_type": "execute_result"
    }
   ],
   "source": [
    "df.insert( 2, \"three\", df[\"flag\"] - df[\"one\"] )\n",
    "df"
   ]
  },
  {
   "cell_type": "markdown",
   "metadata": {},
   "source": [
    "We can also __set the value of an existing column__."
   ]
  },
  {
   "cell_type": "code",
   "execution_count": 68,
   "metadata": {},
   "outputs": [
    {
     "data": {
      "text/html": [
       "<div>\n",
       "<style scoped>\n",
       "    .dataframe tbody tr th:only-of-type {\n",
       "        vertical-align: middle;\n",
       "    }\n",
       "\n",
       "    .dataframe tbody tr th {\n",
       "        vertical-align: top;\n",
       "    }\n",
       "\n",
       "    .dataframe thead th {\n",
       "        text-align: right;\n",
       "    }\n",
       "</style>\n",
       "<table border=\"1\" class=\"dataframe\">\n",
       "  <thead>\n",
       "    <tr style=\"text-align: right;\">\n",
       "      <th></th>\n",
       "      <th>one</th>\n",
       "      <th>two</th>\n",
       "      <th>three</th>\n",
       "      <th>flag</th>\n",
       "    </tr>\n",
       "  </thead>\n",
       "  <tbody>\n",
       "    <tr>\n",
       "      <th>a</th>\n",
       "      <td>0.255558</td>\n",
       "      <td>Alice</td>\n",
       "      <td>0.744442</td>\n",
       "      <td>1.0</td>\n",
       "    </tr>\n",
       "    <tr>\n",
       "      <th>b</th>\n",
       "      <td>0.168616</td>\n",
       "      <td>Bob</td>\n",
       "      <td>0.831384</td>\n",
       "      <td>1.0</td>\n",
       "    </tr>\n",
       "    <tr>\n",
       "      <th>c</th>\n",
       "      <td>0.679456</td>\n",
       "      <td>Carol</td>\n",
       "      <td>0.320544</td>\n",
       "      <td>1.0</td>\n",
       "    </tr>\n",
       "    <tr>\n",
       "      <th>d</th>\n",
       "      <td>0.817745</td>\n",
       "      <td>Dale</td>\n",
       "      <td>0.182255</td>\n",
       "      <td>1.0</td>\n",
       "    </tr>\n",
       "    <tr>\n",
       "      <th>e</th>\n",
       "      <td>0.899642</td>\n",
       "      <td>Eva</td>\n",
       "      <td>0.100358</td>\n",
       "      <td>1.0</td>\n",
       "    </tr>\n",
       "  </tbody>\n",
       "</table>\n",
       "</div>"
      ],
      "text/plain": [
       "        one    two     three  flag\n",
       "a  0.255558  Alice  0.744442   1.0\n",
       "b  0.168616    Bob  0.831384   1.0\n",
       "c  0.679456  Carol  0.320544   1.0\n",
       "d  0.817745   Dale  0.182255   1.0\n",
       "e  0.899642    Eva  0.100358   1.0"
      ]
     },
     "execution_count": 68,
     "metadata": {},
     "output_type": "execute_result"
    }
   ],
   "source": [
    "df[\"two\"] = ['Alice', 'Bob', 'Carol', 'Dale', 'Eva']\n",
    "df"
   ]
  },
  {
   "cell_type": "markdown",
   "metadata": {},
   "source": [
    "__Delete a column__ with the Python `del` function. To remove the column but keep the data as a separate Series, __pop the column__ using `DataFrame.pop` instead."
   ]
  },
  {
   "cell_type": "code",
   "execution_count": 69,
   "metadata": {},
   "outputs": [
    {
     "data": {
      "text/html": [
       "<div>\n",
       "<style scoped>\n",
       "    .dataframe tbody tr th:only-of-type {\n",
       "        vertical-align: middle;\n",
       "    }\n",
       "\n",
       "    .dataframe tbody tr th {\n",
       "        vertical-align: top;\n",
       "    }\n",
       "\n",
       "    .dataframe thead th {\n",
       "        text-align: right;\n",
       "    }\n",
       "</style>\n",
       "<table border=\"1\" class=\"dataframe\">\n",
       "  <thead>\n",
       "    <tr style=\"text-align: right;\">\n",
       "      <th></th>\n",
       "      <th>one</th>\n",
       "      <th>two</th>\n",
       "      <th>three</th>\n",
       "    </tr>\n",
       "  </thead>\n",
       "  <tbody>\n",
       "    <tr>\n",
       "      <th>a</th>\n",
       "      <td>0.255558</td>\n",
       "      <td>Alice</td>\n",
       "      <td>0.744442</td>\n",
       "    </tr>\n",
       "    <tr>\n",
       "      <th>b</th>\n",
       "      <td>0.168616</td>\n",
       "      <td>Bob</td>\n",
       "      <td>0.831384</td>\n",
       "    </tr>\n",
       "    <tr>\n",
       "      <th>c</th>\n",
       "      <td>0.679456</td>\n",
       "      <td>Carol</td>\n",
       "      <td>0.320544</td>\n",
       "    </tr>\n",
       "    <tr>\n",
       "      <th>d</th>\n",
       "      <td>0.817745</td>\n",
       "      <td>Dale</td>\n",
       "      <td>0.182255</td>\n",
       "    </tr>\n",
       "    <tr>\n",
       "      <th>e</th>\n",
       "      <td>0.899642</td>\n",
       "      <td>Eva</td>\n",
       "      <td>0.100358</td>\n",
       "    </tr>\n",
       "  </tbody>\n",
       "</table>\n",
       "</div>"
      ],
      "text/plain": [
       "        one    two     three\n",
       "a  0.255558  Alice  0.744442\n",
       "b  0.168616    Bob  0.831384\n",
       "c  0.679456  Carol  0.320544\n",
       "d  0.817745   Dale  0.182255\n",
       "e  0.899642    Eva  0.100358"
      ]
     },
     "execution_count": 69,
     "metadata": {},
     "output_type": "execute_result"
    }
   ],
   "source": [
    "del df[\"flag\"]\n",
    "df"
   ]
  },
  {
   "cell_type": "code",
   "execution_count": 70,
   "metadata": {},
   "outputs": [
    {
     "name": "stdout",
     "output_type": "stream",
     "text": [
      "Names:\n",
      " a    Alice\n",
      "b      Bob\n",
      "c    Carol\n",
      "d     Dale\n",
      "e      Eva\n",
      "Name: two, dtype: object\n"
     ]
    },
    {
     "data": {
      "text/html": [
       "<div>\n",
       "<style scoped>\n",
       "    .dataframe tbody tr th:only-of-type {\n",
       "        vertical-align: middle;\n",
       "    }\n",
       "\n",
       "    .dataframe tbody tr th {\n",
       "        vertical-align: top;\n",
       "    }\n",
       "\n",
       "    .dataframe thead th {\n",
       "        text-align: right;\n",
       "    }\n",
       "</style>\n",
       "<table border=\"1\" class=\"dataframe\">\n",
       "  <thead>\n",
       "    <tr style=\"text-align: right;\">\n",
       "      <th></th>\n",
       "      <th>one</th>\n",
       "      <th>three</th>\n",
       "    </tr>\n",
       "  </thead>\n",
       "  <tbody>\n",
       "    <tr>\n",
       "      <th>a</th>\n",
       "      <td>0.255558</td>\n",
       "      <td>0.744442</td>\n",
       "    </tr>\n",
       "    <tr>\n",
       "      <th>b</th>\n",
       "      <td>0.168616</td>\n",
       "      <td>0.831384</td>\n",
       "    </tr>\n",
       "    <tr>\n",
       "      <th>c</th>\n",
       "      <td>0.679456</td>\n",
       "      <td>0.320544</td>\n",
       "    </tr>\n",
       "    <tr>\n",
       "      <th>d</th>\n",
       "      <td>0.817745</td>\n",
       "      <td>0.182255</td>\n",
       "    </tr>\n",
       "    <tr>\n",
       "      <th>e</th>\n",
       "      <td>0.899642</td>\n",
       "      <td>0.100358</td>\n",
       "    </tr>\n",
       "  </tbody>\n",
       "</table>\n",
       "</div>"
      ],
      "text/plain": [
       "        one     three\n",
       "a  0.255558  0.744442\n",
       "b  0.168616  0.831384\n",
       "c  0.679456  0.320544\n",
       "d  0.817745  0.182255\n",
       "e  0.899642  0.100358"
      ]
     },
     "execution_count": 70,
     "metadata": {},
     "output_type": "execute_result"
    }
   ],
   "source": [
    "names = df.pop( \"two\" )\n",
    "\n",
    "print( \"Names:\\n\", names )\n",
    "df"
   ]
  },
  {
   "cell_type": "markdown",
   "metadata": {
    "id": "--SWM-0gj8MA"
   },
   "source": [
    "__`DataFrame.assign()`__ is a useful method to create new columns (potentially derived from existing columns) in a copy of the data, leaving the original DataFrame untouched."
   ]
  },
  {
   "cell_type": "code",
   "execution_count": 71,
   "metadata": {
    "id": "--SWM-0gj8MA"
   },
   "outputs": [
    {
     "data": {
      "text/html": [
       "<div>\n",
       "<style scoped>\n",
       "    .dataframe tbody tr th:only-of-type {\n",
       "        vertical-align: middle;\n",
       "    }\n",
       "\n",
       "    .dataframe tbody tr th {\n",
       "        vertical-align: top;\n",
       "    }\n",
       "\n",
       "    .dataframe thead th {\n",
       "        text-align: right;\n",
       "    }\n",
       "</style>\n",
       "<table border=\"1\" class=\"dataframe\">\n",
       "  <thead>\n",
       "    <tr style=\"text-align: right;\">\n",
       "      <th></th>\n",
       "      <th>one</th>\n",
       "      <th>three</th>\n",
       "      <th>four</th>\n",
       "    </tr>\n",
       "  </thead>\n",
       "  <tbody>\n",
       "    <tr>\n",
       "      <th>a</th>\n",
       "      <td>0.255558</td>\n",
       "      <td>0.744442</td>\n",
       "      <td>0.190248</td>\n",
       "    </tr>\n",
       "    <tr>\n",
       "      <th>b</th>\n",
       "      <td>0.168616</td>\n",
       "      <td>0.831384</td>\n",
       "      <td>0.140185</td>\n",
       "    </tr>\n",
       "    <tr>\n",
       "      <th>c</th>\n",
       "      <td>0.679456</td>\n",
       "      <td>0.320544</td>\n",
       "      <td>0.217796</td>\n",
       "    </tr>\n",
       "    <tr>\n",
       "      <th>d</th>\n",
       "      <td>0.817745</td>\n",
       "      <td>0.182255</td>\n",
       "      <td>0.149038</td>\n",
       "    </tr>\n",
       "    <tr>\n",
       "      <th>e</th>\n",
       "      <td>0.899642</td>\n",
       "      <td>0.100358</td>\n",
       "      <td>0.090287</td>\n",
       "    </tr>\n",
       "  </tbody>\n",
       "</table>\n",
       "</div>"
      ],
      "text/plain": [
       "        one     three      four\n",
       "a  0.255558  0.744442  0.190248\n",
       "b  0.168616  0.831384  0.140185\n",
       "c  0.679456  0.320544  0.217796\n",
       "d  0.817745  0.182255  0.149038\n",
       "e  0.899642  0.100358  0.090287"
      ]
     },
     "execution_count": 71,
     "metadata": {},
     "output_type": "execute_result"
    }
   ],
   "source": [
    "dfcopy = df.assign( four = df[\"one\"] * df[\"three\"] )\n",
    "dfcopy"
   ]
  },
  {
   "cell_type": "code",
   "execution_count": 72,
   "metadata": {},
   "outputs": [
    {
     "data": {
      "text/html": [
       "<div>\n",
       "<style scoped>\n",
       "    .dataframe tbody tr th:only-of-type {\n",
       "        vertical-align: middle;\n",
       "    }\n",
       "\n",
       "    .dataframe tbody tr th {\n",
       "        vertical-align: top;\n",
       "    }\n",
       "\n",
       "    .dataframe thead th {\n",
       "        text-align: right;\n",
       "    }\n",
       "</style>\n",
       "<table border=\"1\" class=\"dataframe\">\n",
       "  <thead>\n",
       "    <tr style=\"text-align: right;\">\n",
       "      <th></th>\n",
       "      <th>one</th>\n",
       "      <th>three</th>\n",
       "    </tr>\n",
       "  </thead>\n",
       "  <tbody>\n",
       "    <tr>\n",
       "      <th>a</th>\n",
       "      <td>0.255558</td>\n",
       "      <td>0.744442</td>\n",
       "    </tr>\n",
       "    <tr>\n",
       "      <th>b</th>\n",
       "      <td>0.168616</td>\n",
       "      <td>0.831384</td>\n",
       "    </tr>\n",
       "    <tr>\n",
       "      <th>c</th>\n",
       "      <td>0.679456</td>\n",
       "      <td>0.320544</td>\n",
       "    </tr>\n",
       "    <tr>\n",
       "      <th>d</th>\n",
       "      <td>0.817745</td>\n",
       "      <td>0.182255</td>\n",
       "    </tr>\n",
       "    <tr>\n",
       "      <th>e</th>\n",
       "      <td>0.899642</td>\n",
       "      <td>0.100358</td>\n",
       "    </tr>\n",
       "  </tbody>\n",
       "</table>\n",
       "</div>"
      ],
      "text/plain": [
       "        one     three\n",
       "a  0.255558  0.744442\n",
       "b  0.168616  0.831384\n",
       "c  0.679456  0.320544\n",
       "d  0.817745  0.182255\n",
       "e  0.899642  0.100358"
      ]
     },
     "execution_count": 72,
     "metadata": {},
     "output_type": "execute_result"
    }
   ],
   "source": [
    "df"
   ]
  },
  {
   "cell_type": "markdown",
   "metadata": {},
   "source": [
    "We can __rename columns__ using a mapping. The index (row labels) can similarly be renamed. Note that the rename operation returns a new DataFrame."
   ]
  },
  {
   "cell_type": "code",
   "execution_count": 73,
   "metadata": {},
   "outputs": [
    {
     "data": {
      "text/html": [
       "<div>\n",
       "<style scoped>\n",
       "    .dataframe tbody tr th:only-of-type {\n",
       "        vertical-align: middle;\n",
       "    }\n",
       "\n",
       "    .dataframe tbody tr th {\n",
       "        vertical-align: top;\n",
       "    }\n",
       "\n",
       "    .dataframe thead th {\n",
       "        text-align: right;\n",
       "    }\n",
       "</style>\n",
       "<table border=\"1\" class=\"dataframe\">\n",
       "  <thead>\n",
       "    <tr style=\"text-align: right;\">\n",
       "      <th></th>\n",
       "      <th>one</th>\n",
       "      <th>factor</th>\n",
       "      <th>product</th>\n",
       "    </tr>\n",
       "  </thead>\n",
       "  <tbody>\n",
       "    <tr>\n",
       "      <th>a</th>\n",
       "      <td>0.255558</td>\n",
       "      <td>0.744442</td>\n",
       "      <td>0.190248</td>\n",
       "    </tr>\n",
       "    <tr>\n",
       "      <th>b</th>\n",
       "      <td>0.168616</td>\n",
       "      <td>0.831384</td>\n",
       "      <td>0.140185</td>\n",
       "    </tr>\n",
       "    <tr>\n",
       "      <th>c</th>\n",
       "      <td>0.679456</td>\n",
       "      <td>0.320544</td>\n",
       "      <td>0.217796</td>\n",
       "    </tr>\n",
       "    <tr>\n",
       "      <th>d</th>\n",
       "      <td>0.817745</td>\n",
       "      <td>0.182255</td>\n",
       "      <td>0.149038</td>\n",
       "    </tr>\n",
       "    <tr>\n",
       "      <th>e</th>\n",
       "      <td>0.899642</td>\n",
       "      <td>0.100358</td>\n",
       "      <td>0.090287</td>\n",
       "    </tr>\n",
       "  </tbody>\n",
       "</table>\n",
       "</div>"
      ],
      "text/plain": [
       "        one    factor   product\n",
       "a  0.255558  0.744442  0.190248\n",
       "b  0.168616  0.831384  0.140185\n",
       "c  0.679456  0.320544  0.217796\n",
       "d  0.817745  0.182255  0.149038\n",
       "e  0.899642  0.100358  0.090287"
      ]
     },
     "execution_count": 73,
     "metadata": {},
     "output_type": "execute_result"
    }
   ],
   "source": [
    "dfcopy = dfcopy.rename( columns={\"three\" : \"factor\", \"four\" : \"product\"} )  # overwrite the existing DataFrame\n",
    "dfcopy"
   ]
  },
  {
   "cell_type": "markdown",
   "metadata": {
    "id": "--SWM-0gj8MA"
   },
   "source": [
    "## Interoperability of Pandas and NumPy Data Structures\n",
    "\n",
    "Most NumPy functions can be called directly on Series and DataFrame."
   ]
  },
  {
   "cell_type": "code",
   "execution_count": 74,
   "metadata": {},
   "outputs": [
    {
     "data": {
      "text/plain": [
       "a    0.648831\n",
       "b    0.425606\n",
       "c    0.404456\n",
       "d    0.294330\n",
       "e    0.192722\n",
       "dtype: float64"
      ]
     },
     "execution_count": 74,
     "metadata": {},
     "output_type": "execute_result"
    }
   ],
   "source": [
    "s"
   ]
  },
  {
   "cell_type": "code",
   "execution_count": null,
   "metadata": {},
   "outputs": [],
   "source": []
  },
  {
   "cell_type": "code",
   "execution_count": null,
   "metadata": {},
   "outputs": [],
   "source": []
  },
  {
   "cell_type": "code",
   "execution_count": 75,
   "metadata": {},
   "outputs": [
    {
     "data": {
      "text/plain": [
       "1.5015996902347246"
      ]
     },
     "execution_count": 75,
     "metadata": {},
     "output_type": "execute_result"
    }
   ],
   "source": [
    "from math import *\n",
    "exp(0.406531)"
   ]
  },
  {
   "cell_type": "code",
   "execution_count": 76,
   "metadata": {},
   "outputs": [
    {
     "data": {
      "text/plain": [
       "a    1.913303\n",
       "b    1.530517\n",
       "c    1.498487\n",
       "d    1.342227\n",
       "e    1.212545\n",
       "dtype: float64"
      ]
     },
     "execution_count": 76,
     "metadata": {},
     "output_type": "execute_result"
    }
   ],
   "source": [
    "np.exp( s )"
   ]
  },
  {
   "cell_type": "code",
   "execution_count": 77,
   "metadata": {},
   "outputs": [
    {
     "data": {
      "text/html": [
       "<div>\n",
       "<style scoped>\n",
       "    .dataframe tbody tr th:only-of-type {\n",
       "        vertical-align: middle;\n",
       "    }\n",
       "\n",
       "    .dataframe tbody tr th {\n",
       "        vertical-align: top;\n",
       "    }\n",
       "\n",
       "    .dataframe thead th {\n",
       "        text-align: right;\n",
       "    }\n",
       "</style>\n",
       "<table border=\"1\" class=\"dataframe\">\n",
       "  <thead>\n",
       "    <tr style=\"text-align: right;\">\n",
       "      <th></th>\n",
       "      <th>one</th>\n",
       "      <th>three</th>\n",
       "    </tr>\n",
       "  </thead>\n",
       "  <tbody>\n",
       "    <tr>\n",
       "      <th>a</th>\n",
       "      <td>0.255558</td>\n",
       "      <td>0.744442</td>\n",
       "    </tr>\n",
       "    <tr>\n",
       "      <th>b</th>\n",
       "      <td>0.168616</td>\n",
       "      <td>0.831384</td>\n",
       "    </tr>\n",
       "    <tr>\n",
       "      <th>c</th>\n",
       "      <td>0.679456</td>\n",
       "      <td>0.320544</td>\n",
       "    </tr>\n",
       "    <tr>\n",
       "      <th>d</th>\n",
       "      <td>0.817745</td>\n",
       "      <td>0.182255</td>\n",
       "    </tr>\n",
       "    <tr>\n",
       "      <th>e</th>\n",
       "      <td>0.899642</td>\n",
       "      <td>0.100358</td>\n",
       "    </tr>\n",
       "  </tbody>\n",
       "</table>\n",
       "</div>"
      ],
      "text/plain": [
       "        one     three\n",
       "a  0.255558  0.744442\n",
       "b  0.168616  0.831384\n",
       "c  0.679456  0.320544\n",
       "d  0.817745  0.182255\n",
       "e  0.899642  0.100358"
      ]
     },
     "execution_count": 77,
     "metadata": {},
     "output_type": "execute_result"
    }
   ],
   "source": [
    "df"
   ]
  },
  {
   "cell_type": "code",
   "execution_count": 78,
   "metadata": {},
   "outputs": [
    {
     "data": {
      "text/plain": [
       "array([[0.25555777, 0.74444223],\n",
       "       [0.16861604, 0.83138396],\n",
       "       [0.67945584, 0.32054416],\n",
       "       [0.8177446 , 0.1822554 ],\n",
       "       [0.89964157, 0.10035843]])"
      ]
     },
     "execution_count": 78,
     "metadata": {},
     "output_type": "execute_result"
    }
   ],
   "source": [
    "df.to_numpy()"
   ]
  },
  {
   "cell_type": "markdown",
   "metadata": {},
   "source": [
    "As we have seen in Tutorial 1, however, some functions will require NumPy arrays. We can __convert a Series or a DataFrame into a NumPy array__ using `Series.to_numpy` or `DataFrame.to_numpy` functions respectively. With heterogenous data, the lowest common type will have to be used."
   ]
  },
  {
   "cell_type": "code",
   "execution_count": 79,
   "metadata": {},
   "outputs": [
    {
     "data": {
      "text/plain": [
       "a    0.648831\n",
       "b    0.425606\n",
       "c    0.404456\n",
       "d    0.294330\n",
       "e    0.192722\n",
       "dtype: float64"
      ]
     },
     "execution_count": 79,
     "metadata": {},
     "output_type": "execute_result"
    }
   ],
   "source": [
    "s"
   ]
  },
  {
   "cell_type": "code",
   "execution_count": 80,
   "metadata": {},
   "outputs": [
    {
     "data": {
      "text/plain": [
       "array([0.64883104, 0.42560573, 0.40445578, 0.29433023, 0.1927216 ])"
      ]
     },
     "execution_count": 80,
     "metadata": {},
     "output_type": "execute_result"
    }
   ],
   "source": [
    "s.to_numpy()"
   ]
  },
  {
   "cell_type": "code",
   "execution_count": 81,
   "metadata": {},
   "outputs": [
    {
     "data": {
      "text/plain": [
       "array([[0.25555777, 0.74444223],\n",
       "       [0.16861604, 0.83138396],\n",
       "       [0.67945584, 0.32054416],\n",
       "       [0.8177446 , 0.1822554 ],\n",
       "       [0.89964157, 0.10035843]])"
      ]
     },
     "execution_count": 81,
     "metadata": {},
     "output_type": "execute_result"
    }
   ],
   "source": [
    "df.to_numpy()"
   ]
  },
  {
   "cell_type": "markdown",
   "metadata": {
    "id": "--SWM-0gj8MA"
   },
   "source": [
    "Note that DataFrame is not intended to be a drop-in replacement for NumPy array as its indexing semantics and data model are quite different in places from an n-dimensional array.\n",
    "\n",
    "In situations when we can use either Pandas or NumPy functions, we may consider factors such as the speed or memory consumption, as summarized in this [Pandas vs Numpy comparison table](https://www.knowledgehut.com/blog/data-science/pandas-vs-numpy#pandas-vs-numpy-[comparison-table])."
   ]
  },
  {
   "cell_type": "markdown",
   "metadata": {},
   "source": [
    "# Introduction to SciPy\n",
    "\n",
    "The SciPy package contains various toolboxes dedicated to common issues in scientific computing. \n",
    "\n",
    "Although there are basic statistical functions (mean, mode, etc.) that can be applied directly to [Series](https://pandas.pydata.org/docs/reference/series.html#computations-descriptive-stats), [DataFrames](https://pandas.pydata.org/docs/reference/frame.html#computations-descriptive-stats), and [NumPy arrays](https://numpy.org/devdocs/reference/routines.statistics.html), the real repository for statistical functions is in [`scipy.stats`](https://docs.scipy.org/doc/scipy/reference/stats.html).\n",
    "\n",
    "Let us work with a dataset next, to see how we can use the various packages to compute the statistics. We will also use some Matplotlib plotting functions along the way, so let's import that too."
   ]
  },
  {
   "cell_type": "code",
   "execution_count": 82,
   "metadata": {},
   "outputs": [],
   "source": [
    "import scipy.stats as stats\n",
    "\n",
    "%matplotlib inline\n",
    "import matplotlib.pyplot as plt"
   ]
  },
  {
   "cell_type": "markdown",
   "metadata": {},
   "source": [
    "# Descriptive Statistics\n",
    "\n",
    "For this tutorial, we will use the [food delivery time dataset](https://www.kaggle.com/datasets/bhanupratapbiswas/food-delivery-time-prediction-case-study).\n",
    "\n",
    "__EXERCISE:__ \n",
    "\n",
    "Load the dataset from the file `food_delivery_time.xlsx`. What Pandas function should you use to read the Excel format?"
   ]
  },
  {
   "cell_type": "code",
   "execution_count": 83,
   "metadata": {
    "id": "5iDCf5XVlKHt",
    "scrolled": true
   },
   "outputs": [
    {
     "data": {
      "text/html": [
       "<div>\n",
       "<style scoped>\n",
       "    .dataframe tbody tr th:only-of-type {\n",
       "        vertical-align: middle;\n",
       "    }\n",
       "\n",
       "    .dataframe tbody tr th {\n",
       "        vertical-align: top;\n",
       "    }\n",
       "\n",
       "    .dataframe thead th {\n",
       "        text-align: right;\n",
       "    }\n",
       "</style>\n",
       "<table border=\"1\" class=\"dataframe\">\n",
       "  <thead>\n",
       "    <tr style=\"text-align: right;\">\n",
       "      <th></th>\n",
       "      <th>ID</th>\n",
       "      <th>Delivery_person_ID</th>\n",
       "      <th>Delivery_person_Age</th>\n",
       "      <th>Delivery_person_Ratings</th>\n",
       "      <th>Restaurant_latitude</th>\n",
       "      <th>Restaurant_longitude</th>\n",
       "      <th>Delivery_location_latitude</th>\n",
       "      <th>Delivery_location_longitude</th>\n",
       "      <th>Type_of_order</th>\n",
       "      <th>Type_of_vehicle</th>\n",
       "      <th>Time_taken(min)</th>\n",
       "    </tr>\n",
       "  </thead>\n",
       "  <tbody>\n",
       "    <tr>\n",
       "      <th>0</th>\n",
       "      <td>4607</td>\n",
       "      <td>INDORES13DEL02</td>\n",
       "      <td>37</td>\n",
       "      <td>4.9</td>\n",
       "      <td>22.745049</td>\n",
       "      <td>75.892471</td>\n",
       "      <td>22.765049</td>\n",
       "      <td>75.912471</td>\n",
       "      <td>Snack</td>\n",
       "      <td>motorcycle</td>\n",
       "      <td>24</td>\n",
       "    </tr>\n",
       "    <tr>\n",
       "      <th>1</th>\n",
       "      <td>B379</td>\n",
       "      <td>BANGRES18DEL02</td>\n",
       "      <td>34</td>\n",
       "      <td>4.5</td>\n",
       "      <td>12.913041</td>\n",
       "      <td>77.683237</td>\n",
       "      <td>13.043041</td>\n",
       "      <td>77.813237</td>\n",
       "      <td>Snack</td>\n",
       "      <td>scooter</td>\n",
       "      <td>33</td>\n",
       "    </tr>\n",
       "    <tr>\n",
       "      <th>2</th>\n",
       "      <td>5D6D</td>\n",
       "      <td>BANGRES19DEL01</td>\n",
       "      <td>23</td>\n",
       "      <td>4.4</td>\n",
       "      <td>12.914264</td>\n",
       "      <td>77.678400</td>\n",
       "      <td>12.924264</td>\n",
       "      <td>77.688400</td>\n",
       "      <td>Drinks</td>\n",
       "      <td>motorcycle</td>\n",
       "      <td>26</td>\n",
       "    </tr>\n",
       "    <tr>\n",
       "      <th>3</th>\n",
       "      <td>7A6A</td>\n",
       "      <td>COIMBRES13DEL02</td>\n",
       "      <td>38</td>\n",
       "      <td>4.7</td>\n",
       "      <td>11.003669</td>\n",
       "      <td>76.976494</td>\n",
       "      <td>11.053669</td>\n",
       "      <td>77.026494</td>\n",
       "      <td>Buffet</td>\n",
       "      <td>motorcycle</td>\n",
       "      <td>21</td>\n",
       "    </tr>\n",
       "    <tr>\n",
       "      <th>4</th>\n",
       "      <td>70A2</td>\n",
       "      <td>CHENRES12DEL01</td>\n",
       "      <td>32</td>\n",
       "      <td>4.6</td>\n",
       "      <td>12.972793</td>\n",
       "      <td>80.249982</td>\n",
       "      <td>13.012793</td>\n",
       "      <td>80.289982</td>\n",
       "      <td>Snack</td>\n",
       "      <td>scooter</td>\n",
       "      <td>30</td>\n",
       "    </tr>\n",
       "  </tbody>\n",
       "</table>\n",
       "</div>"
      ],
      "text/plain": [
       "     ID Delivery_person_ID  Delivery_person_Age  Delivery_person_Ratings  \\\n",
       "0  4607     INDORES13DEL02                   37                      4.9   \n",
       "1  B379     BANGRES18DEL02                   34                      4.5   \n",
       "2  5D6D     BANGRES19DEL01                   23                      4.4   \n",
       "3  7A6A    COIMBRES13DEL02                   38                      4.7   \n",
       "4  70A2     CHENRES12DEL01                   32                      4.6   \n",
       "\n",
       "   Restaurant_latitude  Restaurant_longitude  Delivery_location_latitude  \\\n",
       "0            22.745049             75.892471                   22.765049   \n",
       "1            12.913041             77.683237                   13.043041   \n",
       "2            12.914264             77.678400                   12.924264   \n",
       "3            11.003669             76.976494                   11.053669   \n",
       "4            12.972793             80.249982                   13.012793   \n",
       "\n",
       "   Delivery_location_longitude Type_of_order Type_of_vehicle  Time_taken(min)  \n",
       "0                    75.912471        Snack      motorcycle                24  \n",
       "1                    77.813237        Snack         scooter                33  \n",
       "2                    77.688400       Drinks      motorcycle                26  \n",
       "3                    77.026494       Buffet      motorcycle                21  \n",
       "4                    80.289982        Snack         scooter                30  "
      ]
     },
     "execution_count": 83,
     "metadata": {},
     "output_type": "execute_result"
    }
   ],
   "source": [
    "# TODO\n",
    "delivery = pd.read_excel( \"food_delivery_time.xlsx\" )\n",
    "delivery.head()"
   ]
  },
  {
   "cell_type": "markdown",
   "metadata": {},
   "source": [
    "__EXERCISE:__ \n",
    "\n",
    "Rename the column names to make them easier to handle:\n",
    "```\n",
    "Delivery_person_*   --> Rider_*\n",
    "Delivery_location_* --> Customer_*\n",
    "Type_of_order       --> Order_Type\n",
    "Type_of_vehicle     --> Vehicle\n",
    "Time_taken(min)     --> Time\n",
    "```"
   ]
  },
  {
   "cell_type": "code",
   "execution_count": 84,
   "metadata": {
    "scrolled": true
   },
   "outputs": [
    {
     "data": {
      "text/html": [
       "<div>\n",
       "<style scoped>\n",
       "    .dataframe tbody tr th:only-of-type {\n",
       "        vertical-align: middle;\n",
       "    }\n",
       "\n",
       "    .dataframe tbody tr th {\n",
       "        vertical-align: top;\n",
       "    }\n",
       "\n",
       "    .dataframe thead th {\n",
       "        text-align: right;\n",
       "    }\n",
       "</style>\n",
       "<table border=\"1\" class=\"dataframe\">\n",
       "  <thead>\n",
       "    <tr style=\"text-align: right;\">\n",
       "      <th></th>\n",
       "      <th>ID</th>\n",
       "      <th>Rider_ID</th>\n",
       "      <th>Rider_Age</th>\n",
       "      <th>Rider_Ratings</th>\n",
       "      <th>Restaurant_latitude</th>\n",
       "      <th>Restaurant_longitude</th>\n",
       "      <th>Customer_latitude</th>\n",
       "      <th>Customer_longitude</th>\n",
       "      <th>Order_Type</th>\n",
       "      <th>Vehicle</th>\n",
       "      <th>Time</th>\n",
       "    </tr>\n",
       "  </thead>\n",
       "  <tbody>\n",
       "    <tr>\n",
       "      <th>0</th>\n",
       "      <td>4607</td>\n",
       "      <td>INDORES13DEL02</td>\n",
       "      <td>37</td>\n",
       "      <td>4.9</td>\n",
       "      <td>22.745049</td>\n",
       "      <td>75.892471</td>\n",
       "      <td>22.765049</td>\n",
       "      <td>75.912471</td>\n",
       "      <td>Snack</td>\n",
       "      <td>motorcycle</td>\n",
       "      <td>24</td>\n",
       "    </tr>\n",
       "    <tr>\n",
       "      <th>1</th>\n",
       "      <td>B379</td>\n",
       "      <td>BANGRES18DEL02</td>\n",
       "      <td>34</td>\n",
       "      <td>4.5</td>\n",
       "      <td>12.913041</td>\n",
       "      <td>77.683237</td>\n",
       "      <td>13.043041</td>\n",
       "      <td>77.813237</td>\n",
       "      <td>Snack</td>\n",
       "      <td>scooter</td>\n",
       "      <td>33</td>\n",
       "    </tr>\n",
       "    <tr>\n",
       "      <th>2</th>\n",
       "      <td>5D6D</td>\n",
       "      <td>BANGRES19DEL01</td>\n",
       "      <td>23</td>\n",
       "      <td>4.4</td>\n",
       "      <td>12.914264</td>\n",
       "      <td>77.678400</td>\n",
       "      <td>12.924264</td>\n",
       "      <td>77.688400</td>\n",
       "      <td>Drinks</td>\n",
       "      <td>motorcycle</td>\n",
       "      <td>26</td>\n",
       "    </tr>\n",
       "    <tr>\n",
       "      <th>3</th>\n",
       "      <td>7A6A</td>\n",
       "      <td>COIMBRES13DEL02</td>\n",
       "      <td>38</td>\n",
       "      <td>4.7</td>\n",
       "      <td>11.003669</td>\n",
       "      <td>76.976494</td>\n",
       "      <td>11.053669</td>\n",
       "      <td>77.026494</td>\n",
       "      <td>Buffet</td>\n",
       "      <td>motorcycle</td>\n",
       "      <td>21</td>\n",
       "    </tr>\n",
       "    <tr>\n",
       "      <th>4</th>\n",
       "      <td>70A2</td>\n",
       "      <td>CHENRES12DEL01</td>\n",
       "      <td>32</td>\n",
       "      <td>4.6</td>\n",
       "      <td>12.972793</td>\n",
       "      <td>80.249982</td>\n",
       "      <td>13.012793</td>\n",
       "      <td>80.289982</td>\n",
       "      <td>Snack</td>\n",
       "      <td>scooter</td>\n",
       "      <td>30</td>\n",
       "    </tr>\n",
       "  </tbody>\n",
       "</table>\n",
       "</div>"
      ],
      "text/plain": [
       "     ID         Rider_ID  Rider_Age  Rider_Ratings  Restaurant_latitude  \\\n",
       "0  4607   INDORES13DEL02         37            4.9            22.745049   \n",
       "1  B379   BANGRES18DEL02         34            4.5            12.913041   \n",
       "2  5D6D   BANGRES19DEL01         23            4.4            12.914264   \n",
       "3  7A6A  COIMBRES13DEL02         38            4.7            11.003669   \n",
       "4  70A2   CHENRES12DEL01         32            4.6            12.972793   \n",
       "\n",
       "   Restaurant_longitude  Customer_latitude  Customer_longitude Order_Type  \\\n",
       "0             75.892471          22.765049           75.912471     Snack    \n",
       "1             77.683237          13.043041           77.813237     Snack    \n",
       "2             77.678400          12.924264           77.688400    Drinks    \n",
       "3             76.976494          11.053669           77.026494    Buffet    \n",
       "4             80.249982          13.012793           80.289982     Snack    \n",
       "\n",
       "       Vehicle  Time  \n",
       "0  motorcycle     24  \n",
       "1     scooter     33  \n",
       "2  motorcycle     26  \n",
       "3  motorcycle     21  \n",
       "4     scooter     30  "
      ]
     },
     "execution_count": 84,
     "metadata": {},
     "output_type": "execute_result"
    }
   ],
   "source": [
    "# TODO\n",
    "delivery = delivery.rename( columns={\n",
    "\"Delivery_person_ID\" : \"Rider_ID\",\n",
    "\"Delivery_person_Age\" : \"Rider_Age\",\n",
    "\"Delivery_person_Ratings\" : \"Rider_Ratings\",\n",
    "\"Delivery_location_latitude\" : \"Customer_latitude\",\n",
    "\"Delivery_location_longitude\" : \"Customer_longitude\",\n",
    "\"Type_of_order\" : \"Order_Type\",\n",
    "\"Type_of_vehicle\" : \"Vehicle\",\n",
    "\"Time_taken(min)\" : \"Time\"\n",
    "} )\n",
    "delivery.head()"
   ]
  },
  {
   "cell_type": "markdown",
   "metadata": {},
   "source": [
    "Upon inspection, the values in the Order and Vehicle columns contain trailing whitespace, which may hinder our work later on."
   ]
  },
  {
   "cell_type": "code",
   "execution_count": 85,
   "metadata": {},
   "outputs": [
    {
     "data": {
      "text/plain": [
       "'Snack '"
      ]
     },
     "execution_count": 85,
     "metadata": {},
     "output_type": "execute_result"
    }
   ],
   "source": [
    "delivery[\"Order_Type\"][0]"
   ]
  },
  {
   "cell_type": "code",
   "execution_count": 86,
   "metadata": {},
   "outputs": [
    {
     "data": {
      "text/plain": [
       "'motorcycle '"
      ]
     },
     "execution_count": 86,
     "metadata": {},
     "output_type": "execute_result"
    }
   ],
   "source": [
    "delivery[\"Vehicle\"][0]"
   ]
  },
  {
   "cell_type": "markdown",
   "metadata": {},
   "source": [
    "__EXERCISE:__ \n",
    "\n",
    "Trim the whitespace from all values in these two columns and store them back in the same DataFrame. Look up the function from `Series.str` package that you can use for this."
   ]
  },
  {
   "cell_type": "code",
   "execution_count": 87,
   "metadata": {},
   "outputs": [
    {
     "data": {
      "text/plain": [
       "'dfdf dfsdgs'"
      ]
     },
     "execution_count": 87,
     "metadata": {},
     "output_type": "execute_result"
    }
   ],
   "source": [
    "s = \"   dfdf dfsdgs   \"\n",
    "s.strip()"
   ]
  },
  {
   "cell_type": "code",
   "execution_count": 88,
   "metadata": {},
   "outputs": [
    {
     "data": {
      "text/plain": [
       "0         Snack\n",
       "1         Snack\n",
       "2        Drinks\n",
       "3        Buffet\n",
       "4         Snack\n",
       "          ...  \n",
       "45588      Meal\n",
       "45589    Buffet\n",
       "45590    Drinks\n",
       "45591     Snack\n",
       "45592     Snack\n",
       "Name: Order_Type, Length: 45593, dtype: object"
      ]
     },
     "execution_count": 88,
     "metadata": {},
     "output_type": "execute_result"
    }
   ],
   "source": [
    "delivery[\"Order_Type\"].str.strip()"
   ]
  },
  {
   "cell_type": "code",
   "execution_count": 89,
   "metadata": {},
   "outputs": [],
   "source": [
    "# TODO\n",
    "delivery[\"Order_Type\"] = delivery[\"Order_Type\"].str.strip()\n",
    "delivery[\"Vehicle\"] = delivery[\"Vehicle\"].str.strip()\n",
    "\n",
    "#alternatively, use the apply function\n",
    "delivery[\"Vehicle\"] = delivery[\"Vehicle\"].apply(lambda x: x.strip())"
   ]
  },
  {
   "cell_type": "code",
   "execution_count": 90,
   "metadata": {},
   "outputs": [
    {
     "data": {
      "text/plain": [
       "'Snack'"
      ]
     },
     "execution_count": 90,
     "metadata": {},
     "output_type": "execute_result"
    }
   ],
   "source": [
    "delivery[\"Order_Type\"][0]  # check after replacement"
   ]
  },
  {
   "cell_type": "code",
   "execution_count": 91,
   "metadata": {},
   "outputs": [
    {
     "data": {
      "text/plain": [
       "'motorcycle'"
      ]
     },
     "execution_count": 91,
     "metadata": {},
     "output_type": "execute_result"
    }
   ],
   "source": [
    "delivery[\"Vehicle\"][0]  # check after replacement"
   ]
  },
  {
   "cell_type": "markdown",
   "metadata": {},
   "source": [
    "__EXERCISE:__ \n",
    "\n",
    "What is the quickest way to find out (1) age range of all Riders, (2) mean Ratings across all orders, and (3) median of delivery time, directly on this DataFrame?\n",
    "\n",
    "_Hint:_ You have done a similar task in Tutorial 1."
   ]
  },
  {
   "cell_type": "code",
   "execution_count": 92,
   "metadata": {},
   "outputs": [
    {
     "data": {
      "text/html": [
       "<div>\n",
       "<style scoped>\n",
       "    .dataframe tbody tr th:only-of-type {\n",
       "        vertical-align: middle;\n",
       "    }\n",
       "\n",
       "    .dataframe tbody tr th {\n",
       "        vertical-align: top;\n",
       "    }\n",
       "\n",
       "    .dataframe thead th {\n",
       "        text-align: right;\n",
       "    }\n",
       "</style>\n",
       "<table border=\"1\" class=\"dataframe\">\n",
       "  <thead>\n",
       "    <tr style=\"text-align: right;\">\n",
       "      <th></th>\n",
       "      <th>Rider_Age</th>\n",
       "      <th>Rider_Ratings</th>\n",
       "      <th>Restaurant_latitude</th>\n",
       "      <th>Restaurant_longitude</th>\n",
       "      <th>Customer_latitude</th>\n",
       "      <th>Customer_longitude</th>\n",
       "      <th>Time</th>\n",
       "    </tr>\n",
       "  </thead>\n",
       "  <tbody>\n",
       "    <tr>\n",
       "      <th>count</th>\n",
       "      <td>45593.000000</td>\n",
       "      <td>45593.000000</td>\n",
       "      <td>45593.000000</td>\n",
       "      <td>45593.000000</td>\n",
       "      <td>45593.000000</td>\n",
       "      <td>45593.000000</td>\n",
       "      <td>45593.000000</td>\n",
       "    </tr>\n",
       "    <tr>\n",
       "      <th>mean</th>\n",
       "      <td>29.544075</td>\n",
       "      <td>4.632367</td>\n",
       "      <td>17.017729</td>\n",
       "      <td>70.231332</td>\n",
       "      <td>17.465186</td>\n",
       "      <td>70.845702</td>\n",
       "      <td>26.294607</td>\n",
       "    </tr>\n",
       "    <tr>\n",
       "      <th>std</th>\n",
       "      <td>5.696793</td>\n",
       "      <td>0.327708</td>\n",
       "      <td>8.185109</td>\n",
       "      <td>22.883647</td>\n",
       "      <td>7.335122</td>\n",
       "      <td>21.118812</td>\n",
       "      <td>9.383806</td>\n",
       "    </tr>\n",
       "    <tr>\n",
       "      <th>min</th>\n",
       "      <td>15.000000</td>\n",
       "      <td>1.000000</td>\n",
       "      <td>-30.905562</td>\n",
       "      <td>-88.366217</td>\n",
       "      <td>0.010000</td>\n",
       "      <td>0.010000</td>\n",
       "      <td>10.000000</td>\n",
       "    </tr>\n",
       "    <tr>\n",
       "      <th>25%</th>\n",
       "      <td>25.000000</td>\n",
       "      <td>4.600000</td>\n",
       "      <td>12.933284</td>\n",
       "      <td>73.170000</td>\n",
       "      <td>12.988453</td>\n",
       "      <td>73.280000</td>\n",
       "      <td>19.000000</td>\n",
       "    </tr>\n",
       "    <tr>\n",
       "      <th>50%</th>\n",
       "      <td>29.000000</td>\n",
       "      <td>4.700000</td>\n",
       "      <td>18.546947</td>\n",
       "      <td>75.898497</td>\n",
       "      <td>18.633934</td>\n",
       "      <td>76.002574</td>\n",
       "      <td>26.000000</td>\n",
       "    </tr>\n",
       "    <tr>\n",
       "      <th>75%</th>\n",
       "      <td>34.000000</td>\n",
       "      <td>4.800000</td>\n",
       "      <td>22.728163</td>\n",
       "      <td>78.044095</td>\n",
       "      <td>22.785049</td>\n",
       "      <td>78.107044</td>\n",
       "      <td>32.000000</td>\n",
       "    </tr>\n",
       "    <tr>\n",
       "      <th>max</th>\n",
       "      <td>50.000000</td>\n",
       "      <td>6.000000</td>\n",
       "      <td>30.914057</td>\n",
       "      <td>88.433452</td>\n",
       "      <td>31.054057</td>\n",
       "      <td>88.563452</td>\n",
       "      <td>54.000000</td>\n",
       "    </tr>\n",
       "  </tbody>\n",
       "</table>\n",
       "</div>"
      ],
      "text/plain": [
       "          Rider_Age  Rider_Ratings  Restaurant_latitude  Restaurant_longitude  \\\n",
       "count  45593.000000   45593.000000         45593.000000          45593.000000   \n",
       "mean      29.544075       4.632367            17.017729             70.231332   \n",
       "std        5.696793       0.327708             8.185109             22.883647   \n",
       "min       15.000000       1.000000           -30.905562            -88.366217   \n",
       "25%       25.000000       4.600000            12.933284             73.170000   \n",
       "50%       29.000000       4.700000            18.546947             75.898497   \n",
       "75%       34.000000       4.800000            22.728163             78.044095   \n",
       "max       50.000000       6.000000            30.914057             88.433452   \n",
       "\n",
       "       Customer_latitude  Customer_longitude          Time  \n",
       "count       45593.000000        45593.000000  45593.000000  \n",
       "mean           17.465186           70.845702     26.294607  \n",
       "std             7.335122           21.118812      9.383806  \n",
       "min             0.010000            0.010000     10.000000  \n",
       "25%            12.988453           73.280000     19.000000  \n",
       "50%            18.633934           76.002574     26.000000  \n",
       "75%            22.785049           78.107044     32.000000  \n",
       "max            31.054057           88.563452     54.000000  "
      ]
     },
     "execution_count": 92,
     "metadata": {},
     "output_type": "execute_result"
    }
   ],
   "source": [
    "# TODO\n",
    "delivery.describe()"
   ]
  },
  {
   "cell_type": "markdown",
   "metadata": {},
   "source": [
    "The `DataFrame.describe` function is handy to quickly obtain basic statistics for all _numeric_ variables. These statistics are generated by excluding the missing values in the data, and the `count` value shows how many values in the column are used in the computation. As such, `count` is also a good indicator of the presence of missing values. \n",
    "\n",
    "Observe the output above and check whether this dataset have any missing values. (We will see how to deal with this situation when we learn Data Preprocessing later on in this course.)\n",
    "\n",
    "Of course, we can obtain the standalone statistical measures (count, mean, std, and so on) as well. You can refer to the documentations for the functions.\n",
    "\n",
    "__EXERCISE:__\n",
    "\n",
    "Using standalone functions, obtain the answer to the three questions above."
   ]
  },
  {
   "cell_type": "code",
   "execution_count": 93,
   "metadata": {},
   "outputs": [
    {
     "data": {
      "text/plain": [
       "50"
      ]
     },
     "execution_count": 93,
     "metadata": {},
     "output_type": "execute_result"
    }
   ],
   "source": [
    "delivery[\"Rider_Age\"].max()"
   ]
  },
  {
   "cell_type": "code",
   "execution_count": 94,
   "metadata": {},
   "outputs": [
    {
     "name": "stdout",
     "output_type": "stream",
     "text": [
      "( 15 , 50 )\n"
     ]
    }
   ],
   "source": [
    "# TODO: Find the age range of all Riders\n",
    "print( \"(\", delivery[\"Rider_Age\"].min(), \",\", delivery[\"Rider_Age\"].max(), \")\" )"
   ]
  },
  {
   "cell_type": "code",
   "execution_count": 95,
   "metadata": {},
   "outputs": [
    {
     "data": {
      "text/plain": [
       "4.632366810694624"
      ]
     },
     "execution_count": 95,
     "metadata": {},
     "output_type": "execute_result"
    }
   ],
   "source": [
    "# TODO: Find the mean Ratings across all orders\n",
    "delivery[\"Rider_Ratings\"].mean()"
   ]
  },
  {
   "cell_type": "code",
   "execution_count": 96,
   "metadata": {},
   "outputs": [
    {
     "data": {
      "text/plain": [
       "26.0"
      ]
     },
     "execution_count": 96,
     "metadata": {},
     "output_type": "execute_result"
    }
   ],
   "source": [
    "# TODO: Find the median of delivery time\n",
    "delivery[\"Time\"].median()"
   ]
  },
  {
   "cell_type": "markdown",
   "metadata": {},
   "source": [
    "__Categorical variables__ are excluded from `DataFrame.describe`. As we would expect, measures like mean or median are not sensible for such variables. \n",
    "\n",
    "What statistics apply to categorical variables? These are count-related measures such as frequencies and proportion.\n",
    "\n",
    "__EXERCISE:__ \n",
    "\n",
    "Find out the most popular order type in this dataset."
   ]
  },
  {
   "cell_type": "code",
   "execution_count": 97,
   "metadata": {},
   "outputs": [
    {
     "data": {
      "text/plain": [
       "0    Snack\n",
       "Name: Order_Type, dtype: object"
      ]
     },
     "execution_count": 97,
     "metadata": {},
     "output_type": "execute_result"
    }
   ],
   "source": [
    "# TODO\n",
    "delivery[\"Order_Type\"].mode()"
   ]
  },
  {
   "cell_type": "markdown",
   "metadata": {},
   "source": [
    "Check if your answer is correct by comparing it with the counts of all variables below. \n",
    "\n",
    "Suppose we want to optimize the delivery operations. Looking at all the counts, is the mode useful to make a decision on which order type to focus on?"
   ]
  },
  {
   "cell_type": "code",
   "execution_count": 98,
   "metadata": {},
   "outputs": [
    {
     "data": {
      "text/plain": [
       "Order_Type\n",
       "Snack     11533\n",
       "Meal      11458\n",
       "Drinks    11322\n",
       "Buffet    11280\n",
       "Name: count, dtype: int64"
      ]
     },
     "execution_count": 98,
     "metadata": {},
     "output_type": "execute_result"
    }
   ],
   "source": [
    "delivery[\"Order_Type\"].value_counts()"
   ]
  },
  {
   "cell_type": "markdown",
   "metadata": {},
   "source": [
    "_Just at a glance, the counts are quite close to each other. Making decisions solely based on the mode and focusing on optimizing only Snack orders might not help operations much!_"
   ]
  },
  {
   "cell_type": "markdown",
   "metadata": {},
   "source": [
    "`scipy.stats` has a `describe` function as well, which works on _a single numeric variable_ and gives a slightly different set of statistical measures."
   ]
  },
  {
   "cell_type": "code",
   "execution_count": 99,
   "metadata": {},
   "outputs": [
    {
     "data": {
      "text/plain": [
       "DescribeResult(nobs=45593, minmax=(1.0, 6.0), mean=4.632366810694624, variance=0.10739222445731587, skewness=-2.5328131336460165, kurtosis=16.42374563889402)"
      ]
     },
     "execution_count": 99,
     "metadata": {},
     "output_type": "execute_result"
    }
   ],
   "source": [
    "stats.describe( delivery[\"Rider_Ratings\"] )"
   ]
  },
  {
   "cell_type": "markdown",
   "metadata": {},
   "source": [
    "## Grouping and Filtering\n",
    "\n",
    "Most of the time, statistics over the whole dataset do not give us a lot of meaningful information. For instance, not many useful conclusions can be drawn just by knowing the mean delivery time of all orders, given the variation in delivery distances and delivery vehicles. We would typically want to filter or group the dataset by values or conditions on the variables."
   ]
  },
  {
   "cell_type": "markdown",
   "metadata": {
    "id": "oCJCeQIaq-hC"
   },
   "source": [
    "### Groupby\n",
    "\n",
    "We can use `DataFrame.groupby()` function to split the dataset based on values of a specific variable. This is typically done to obtain aggregate statistics for the resulting groups (as what we want to do here), or other useful functionalities in the _split-apply-combine_ framework for data analysis as explained in [this Pandas guide](https://pandas.pydata.org/pandas-docs/stable/user_guide/groupby.html). \n",
    "\n",
    "The following image ([source](https://www.justintodata.com/pandas-groupby-with-python/)) illustrates the groupby mechanism.\n",
    "\n",
    "<img src=\"https://www.justintodata.com/wp-content/uploads/2020/04/image-4.png\">\n",
    "\n",
    "Note that no actual splitting is done when the GroupBy object is created. The function only verifies that we have passed a valid mapping. The splitting is only done when we explicitly use some method on this object or extract some of its attributes, such as `groups`."
   ]
  },
  {
   "cell_type": "code",
   "execution_count": 100,
   "metadata": {},
   "outputs": [
    {
     "data": {
      "text/html": [
       "<div>\n",
       "<style scoped>\n",
       "    .dataframe tbody tr th:only-of-type {\n",
       "        vertical-align: middle;\n",
       "    }\n",
       "\n",
       "    .dataframe tbody tr th {\n",
       "        vertical-align: top;\n",
       "    }\n",
       "\n",
       "    .dataframe thead th {\n",
       "        text-align: right;\n",
       "    }\n",
       "</style>\n",
       "<table border=\"1\" class=\"dataframe\">\n",
       "  <thead>\n",
       "    <tr style=\"text-align: right;\">\n",
       "      <th></th>\n",
       "      <th>ID</th>\n",
       "      <th>Rider_ID</th>\n",
       "      <th>Rider_Age</th>\n",
       "      <th>Rider_Ratings</th>\n",
       "      <th>Restaurant_latitude</th>\n",
       "      <th>Restaurant_longitude</th>\n",
       "      <th>Customer_latitude</th>\n",
       "      <th>Customer_longitude</th>\n",
       "      <th>Order_Type</th>\n",
       "      <th>Vehicle</th>\n",
       "      <th>Time</th>\n",
       "    </tr>\n",
       "  </thead>\n",
       "  <tbody>\n",
       "    <tr>\n",
       "      <th>0</th>\n",
       "      <td>4607</td>\n",
       "      <td>INDORES13DEL02</td>\n",
       "      <td>37</td>\n",
       "      <td>4.9</td>\n",
       "      <td>22.745049</td>\n",
       "      <td>75.892471</td>\n",
       "      <td>22.765049</td>\n",
       "      <td>75.912471</td>\n",
       "      <td>Snack</td>\n",
       "      <td>motorcycle</td>\n",
       "      <td>24</td>\n",
       "    </tr>\n",
       "    <tr>\n",
       "      <th>1</th>\n",
       "      <td>B379</td>\n",
       "      <td>BANGRES18DEL02</td>\n",
       "      <td>34</td>\n",
       "      <td>4.5</td>\n",
       "      <td>12.913041</td>\n",
       "      <td>77.683237</td>\n",
       "      <td>13.043041</td>\n",
       "      <td>77.813237</td>\n",
       "      <td>Snack</td>\n",
       "      <td>scooter</td>\n",
       "      <td>33</td>\n",
       "    </tr>\n",
       "    <tr>\n",
       "      <th>2</th>\n",
       "      <td>5D6D</td>\n",
       "      <td>BANGRES19DEL01</td>\n",
       "      <td>23</td>\n",
       "      <td>4.4</td>\n",
       "      <td>12.914264</td>\n",
       "      <td>77.678400</td>\n",
       "      <td>12.924264</td>\n",
       "      <td>77.688400</td>\n",
       "      <td>Drinks</td>\n",
       "      <td>motorcycle</td>\n",
       "      <td>26</td>\n",
       "    </tr>\n",
       "    <tr>\n",
       "      <th>3</th>\n",
       "      <td>7A6A</td>\n",
       "      <td>COIMBRES13DEL02</td>\n",
       "      <td>38</td>\n",
       "      <td>4.7</td>\n",
       "      <td>11.003669</td>\n",
       "      <td>76.976494</td>\n",
       "      <td>11.053669</td>\n",
       "      <td>77.026494</td>\n",
       "      <td>Buffet</td>\n",
       "      <td>motorcycle</td>\n",
       "      <td>21</td>\n",
       "    </tr>\n",
       "    <tr>\n",
       "      <th>4</th>\n",
       "      <td>70A2</td>\n",
       "      <td>CHENRES12DEL01</td>\n",
       "      <td>32</td>\n",
       "      <td>4.6</td>\n",
       "      <td>12.972793</td>\n",
       "      <td>80.249982</td>\n",
       "      <td>13.012793</td>\n",
       "      <td>80.289982</td>\n",
       "      <td>Snack</td>\n",
       "      <td>scooter</td>\n",
       "      <td>30</td>\n",
       "    </tr>\n",
       "    <tr>\n",
       "      <th>...</th>\n",
       "      <td>...</td>\n",
       "      <td>...</td>\n",
       "      <td>...</td>\n",
       "      <td>...</td>\n",
       "      <td>...</td>\n",
       "      <td>...</td>\n",
       "      <td>...</td>\n",
       "      <td>...</td>\n",
       "      <td>...</td>\n",
       "      <td>...</td>\n",
       "      <td>...</td>\n",
       "    </tr>\n",
       "    <tr>\n",
       "      <th>45588</th>\n",
       "      <td>7C09</td>\n",
       "      <td>JAPRES04DEL01</td>\n",
       "      <td>30</td>\n",
       "      <td>4.8</td>\n",
       "      <td>26.902328</td>\n",
       "      <td>75.794257</td>\n",
       "      <td>26.912328</td>\n",
       "      <td>75.804257</td>\n",
       "      <td>Meal</td>\n",
       "      <td>motorcycle</td>\n",
       "      <td>32</td>\n",
       "    </tr>\n",
       "    <tr>\n",
       "      <th>45589</th>\n",
       "      <td>D641</td>\n",
       "      <td>AGRRES16DEL01</td>\n",
       "      <td>21</td>\n",
       "      <td>4.6</td>\n",
       "      <td>0.000000</td>\n",
       "      <td>0.000000</td>\n",
       "      <td>0.070000</td>\n",
       "      <td>0.070000</td>\n",
       "      <td>Buffet</td>\n",
       "      <td>motorcycle</td>\n",
       "      <td>36</td>\n",
       "    </tr>\n",
       "    <tr>\n",
       "      <th>45590</th>\n",
       "      <td>4F8D</td>\n",
       "      <td>CHENRES08DEL03</td>\n",
       "      <td>30</td>\n",
       "      <td>4.9</td>\n",
       "      <td>13.022394</td>\n",
       "      <td>80.242439</td>\n",
       "      <td>13.052394</td>\n",
       "      <td>80.272439</td>\n",
       "      <td>Drinks</td>\n",
       "      <td>scooter</td>\n",
       "      <td>16</td>\n",
       "    </tr>\n",
       "    <tr>\n",
       "      <th>45591</th>\n",
       "      <td>5EEE</td>\n",
       "      <td>COIMBRES11DEL01</td>\n",
       "      <td>20</td>\n",
       "      <td>4.7</td>\n",
       "      <td>11.001753</td>\n",
       "      <td>76.986241</td>\n",
       "      <td>11.041753</td>\n",
       "      <td>77.026241</td>\n",
       "      <td>Snack</td>\n",
       "      <td>motorcycle</td>\n",
       "      <td>26</td>\n",
       "    </tr>\n",
       "    <tr>\n",
       "      <th>45592</th>\n",
       "      <td>5FB2</td>\n",
       "      <td>RANCHIRES09DEL02</td>\n",
       "      <td>23</td>\n",
       "      <td>4.9</td>\n",
       "      <td>23.351058</td>\n",
       "      <td>85.325731</td>\n",
       "      <td>23.431058</td>\n",
       "      <td>85.405731</td>\n",
       "      <td>Snack</td>\n",
       "      <td>scooter</td>\n",
       "      <td>36</td>\n",
       "    </tr>\n",
       "  </tbody>\n",
       "</table>\n",
       "<p>45593 rows × 11 columns</p>\n",
       "</div>"
      ],
      "text/plain": [
       "         ID          Rider_ID  Rider_Age  Rider_Ratings  Restaurant_latitude  \\\n",
       "0      4607    INDORES13DEL02         37            4.9            22.745049   \n",
       "1      B379    BANGRES18DEL02         34            4.5            12.913041   \n",
       "2      5D6D    BANGRES19DEL01         23            4.4            12.914264   \n",
       "3      7A6A   COIMBRES13DEL02         38            4.7            11.003669   \n",
       "4      70A2    CHENRES12DEL01         32            4.6            12.972793   \n",
       "...     ...               ...        ...            ...                  ...   \n",
       "45588  7C09     JAPRES04DEL01         30            4.8            26.902328   \n",
       "45589  D641     AGRRES16DEL01         21            4.6             0.000000   \n",
       "45590  4F8D    CHENRES08DEL03         30            4.9            13.022394   \n",
       "45591  5EEE   COIMBRES11DEL01         20            4.7            11.001753   \n",
       "45592  5FB2  RANCHIRES09DEL02         23            4.9            23.351058   \n",
       "\n",
       "       Restaurant_longitude  Customer_latitude  Customer_longitude Order_Type  \\\n",
       "0                 75.892471          22.765049           75.912471      Snack   \n",
       "1                 77.683237          13.043041           77.813237      Snack   \n",
       "2                 77.678400          12.924264           77.688400     Drinks   \n",
       "3                 76.976494          11.053669           77.026494     Buffet   \n",
       "4                 80.249982          13.012793           80.289982      Snack   \n",
       "...                     ...                ...                 ...        ...   \n",
       "45588             75.794257          26.912328           75.804257       Meal   \n",
       "45589              0.000000           0.070000            0.070000     Buffet   \n",
       "45590             80.242439          13.052394           80.272439     Drinks   \n",
       "45591             76.986241          11.041753           77.026241      Snack   \n",
       "45592             85.325731          23.431058           85.405731      Snack   \n",
       "\n",
       "          Vehicle  Time  \n",
       "0      motorcycle    24  \n",
       "1         scooter    33  \n",
       "2      motorcycle    26  \n",
       "3      motorcycle    21  \n",
       "4         scooter    30  \n",
       "...           ...   ...  \n",
       "45588  motorcycle    32  \n",
       "45589  motorcycle    36  \n",
       "45590     scooter    16  \n",
       "45591  motorcycle    26  \n",
       "45592     scooter    36  \n",
       "\n",
       "[45593 rows x 11 columns]"
      ]
     },
     "execution_count": 100,
     "metadata": {},
     "output_type": "execute_result"
    }
   ],
   "source": [
    "delivery"
   ]
  },
  {
   "cell_type": "code",
   "execution_count": 101,
   "metadata": {},
   "outputs": [
    {
     "data": {
      "text/html": [
       "<div>\n",
       "<style scoped>\n",
       "    .dataframe tbody tr th:only-of-type {\n",
       "        vertical-align: middle;\n",
       "    }\n",
       "\n",
       "    .dataframe tbody tr th {\n",
       "        vertical-align: top;\n",
       "    }\n",
       "\n",
       "    .dataframe thead th {\n",
       "        text-align: right;\n",
       "    }\n",
       "</style>\n",
       "<table border=\"1\" class=\"dataframe\">\n",
       "  <thead>\n",
       "    <tr style=\"text-align: right;\">\n",
       "      <th></th>\n",
       "      <th></th>\n",
       "      <th>Rider_Age</th>\n",
       "      <th>Rider_Ratings</th>\n",
       "      <th>Restaurant_latitude</th>\n",
       "      <th>Restaurant_longitude</th>\n",
       "      <th>Customer_latitude</th>\n",
       "      <th>Customer_longitude</th>\n",
       "      <th>Time</th>\n",
       "    </tr>\n",
       "    <tr>\n",
       "      <th>Order_Type</th>\n",
       "      <th>Vehicle</th>\n",
       "      <th></th>\n",
       "      <th></th>\n",
       "      <th></th>\n",
       "      <th></th>\n",
       "      <th></th>\n",
       "      <th></th>\n",
       "      <th></th>\n",
       "    </tr>\n",
       "  </thead>\n",
       "  <tbody>\n",
       "    <tr>\n",
       "      <th rowspan=\"4\" valign=\"top\">Buffet</th>\n",
       "      <th>bicycle</th>\n",
       "      <td>28.533333</td>\n",
       "      <td>4.213333</td>\n",
       "      <td>8.300252</td>\n",
       "      <td>35.658114</td>\n",
       "      <td>14.429798</td>\n",
       "      <td>56.830768</td>\n",
       "      <td>25.933333</td>\n",
       "    </tr>\n",
       "    <tr>\n",
       "      <th>electric_scooter</th>\n",
       "      <td>29.538706</td>\n",
       "      <td>4.657370</td>\n",
       "      <td>16.568505</td>\n",
       "      <td>69.217354</td>\n",
       "      <td>17.227715</td>\n",
       "      <td>70.284393</td>\n",
       "      <td>24.256628</td>\n",
       "    </tr>\n",
       "    <tr>\n",
       "      <th>motorcycle</th>\n",
       "      <td>29.563760</td>\n",
       "      <td>4.622547</td>\n",
       "      <td>17.173804</td>\n",
       "      <td>70.710490</td>\n",
       "      <td>17.577018</td>\n",
       "      <td>71.036822</td>\n",
       "      <td>27.566945</td>\n",
       "    </tr>\n",
       "    <tr>\n",
       "      <th>scooter</th>\n",
       "      <td>29.632680</td>\n",
       "      <td>4.647384</td>\n",
       "      <td>16.846785</td>\n",
       "      <td>69.678176</td>\n",
       "      <td>17.300533</td>\n",
       "      <td>70.442824</td>\n",
       "      <td>24.526697</td>\n",
       "    </tr>\n",
       "    <tr>\n",
       "      <th rowspan=\"4\" valign=\"top\">Drinks</th>\n",
       "      <th>bicycle</th>\n",
       "      <td>29.875000</td>\n",
       "      <td>4.325000</td>\n",
       "      <td>5.027806</td>\n",
       "      <td>19.565552</td>\n",
       "      <td>18.846943</td>\n",
       "      <td>78.164646</td>\n",
       "      <td>25.562500</td>\n",
       "    </tr>\n",
       "    <tr>\n",
       "      <th>electric_scooter</th>\n",
       "      <td>29.900948</td>\n",
       "      <td>4.636670</td>\n",
       "      <td>16.578550</td>\n",
       "      <td>69.521000</td>\n",
       "      <td>17.382844</td>\n",
       "      <td>71.537298</td>\n",
       "      <td>24.630137</td>\n",
       "    </tr>\n",
       "    <tr>\n",
       "      <th>motorcycle</th>\n",
       "      <td>29.482547</td>\n",
       "      <td>4.629088</td>\n",
       "      <td>17.154522</td>\n",
       "      <td>70.743708</td>\n",
       "      <td>17.463545</td>\n",
       "      <td>71.019690</td>\n",
       "      <td>27.395591</td>\n",
       "    </tr>\n",
       "    <tr>\n",
       "      <th>scooter</th>\n",
       "      <td>29.536732</td>\n",
       "      <td>4.636941</td>\n",
       "      <td>17.110187</td>\n",
       "      <td>70.159187</td>\n",
       "      <td>17.524653</td>\n",
       "      <td>70.837042</td>\n",
       "      <td>24.514771</td>\n",
       "    </tr>\n",
       "    <tr>\n",
       "      <th rowspan=\"4\" valign=\"top\">Meal</th>\n",
       "      <th>bicycle</th>\n",
       "      <td>28.695652</td>\n",
       "      <td>4.347826</td>\n",
       "      <td>9.355332</td>\n",
       "      <td>42.141344</td>\n",
       "      <td>13.838657</td>\n",
       "      <td>62.238512</td>\n",
       "      <td>27.260870</td>\n",
       "    </tr>\n",
       "    <tr>\n",
       "      <th>electric_scooter</th>\n",
       "      <td>29.728903</td>\n",
       "      <td>4.642405</td>\n",
       "      <td>16.097872</td>\n",
       "      <td>67.047671</td>\n",
       "      <td>17.055607</td>\n",
       "      <td>68.717619</td>\n",
       "      <td>24.540084</td>\n",
       "    </tr>\n",
       "    <tr>\n",
       "      <th>motorcycle</th>\n",
       "      <td>29.633619</td>\n",
       "      <td>4.625988</td>\n",
       "      <td>17.016897</td>\n",
       "      <td>70.372653</td>\n",
       "      <td>17.431820</td>\n",
       "      <td>70.743111</td>\n",
       "      <td>27.712183</td>\n",
       "    </tr>\n",
       "    <tr>\n",
       "      <th>scooter</th>\n",
       "      <td>29.476240</td>\n",
       "      <td>4.636136</td>\n",
       "      <td>17.080775</td>\n",
       "      <td>70.410435</td>\n",
       "      <td>17.622004</td>\n",
       "      <td>71.236062</td>\n",
       "      <td>24.632115</td>\n",
       "    </tr>\n",
       "    <tr>\n",
       "      <th rowspan=\"4\" valign=\"top\">Snack</th>\n",
       "      <th>bicycle</th>\n",
       "      <td>31.500000</td>\n",
       "      <td>4.385714</td>\n",
       "      <td>3.098789</td>\n",
       "      <td>22.935009</td>\n",
       "      <td>18.590544</td>\n",
       "      <td>79.472047</td>\n",
       "      <td>26.571429</td>\n",
       "    </tr>\n",
       "    <tr>\n",
       "      <th>electric_scooter</th>\n",
       "      <td>29.564682</td>\n",
       "      <td>4.631314</td>\n",
       "      <td>16.538526</td>\n",
       "      <td>68.629053</td>\n",
       "      <td>16.955864</td>\n",
       "      <td>69.334919</td>\n",
       "      <td>24.452772</td>\n",
       "    </tr>\n",
       "    <tr>\n",
       "      <th>motorcycle</th>\n",
       "      <td>29.488799</td>\n",
       "      <td>4.627409</td>\n",
       "      <td>17.303181</td>\n",
       "      <td>70.972460</td>\n",
       "      <td>17.670488</td>\n",
       "      <td>71.408553</td>\n",
       "      <td>27.743798</td>\n",
       "    </tr>\n",
       "    <tr>\n",
       "      <th>scooter</th>\n",
       "      <td>29.409091</td>\n",
       "      <td>4.647458</td>\n",
       "      <td>16.786343</td>\n",
       "      <td>69.748848</td>\n",
       "      <td>17.257927</td>\n",
       "      <td>70.361451</td>\n",
       "      <td>24.254494</td>\n",
       "    </tr>\n",
       "  </tbody>\n",
       "</table>\n",
       "</div>"
      ],
      "text/plain": [
       "                             Rider_Age  Rider_Ratings  Restaurant_latitude  \\\n",
       "Order_Type Vehicle                                                           \n",
       "Buffet     bicycle           28.533333       4.213333             8.300252   \n",
       "           electric_scooter  29.538706       4.657370            16.568505   \n",
       "           motorcycle        29.563760       4.622547            17.173804   \n",
       "           scooter           29.632680       4.647384            16.846785   \n",
       "Drinks     bicycle           29.875000       4.325000             5.027806   \n",
       "           electric_scooter  29.900948       4.636670            16.578550   \n",
       "           motorcycle        29.482547       4.629088            17.154522   \n",
       "           scooter           29.536732       4.636941            17.110187   \n",
       "Meal       bicycle           28.695652       4.347826             9.355332   \n",
       "           electric_scooter  29.728903       4.642405            16.097872   \n",
       "           motorcycle        29.633619       4.625988            17.016897   \n",
       "           scooter           29.476240       4.636136            17.080775   \n",
       "Snack      bicycle           31.500000       4.385714             3.098789   \n",
       "           electric_scooter  29.564682       4.631314            16.538526   \n",
       "           motorcycle        29.488799       4.627409            17.303181   \n",
       "           scooter           29.409091       4.647458            16.786343   \n",
       "\n",
       "                             Restaurant_longitude  Customer_latitude  \\\n",
       "Order_Type Vehicle                                                     \n",
       "Buffet     bicycle                      35.658114          14.429798   \n",
       "           electric_scooter             69.217354          17.227715   \n",
       "           motorcycle                   70.710490          17.577018   \n",
       "           scooter                      69.678176          17.300533   \n",
       "Drinks     bicycle                      19.565552          18.846943   \n",
       "           electric_scooter             69.521000          17.382844   \n",
       "           motorcycle                   70.743708          17.463545   \n",
       "           scooter                      70.159187          17.524653   \n",
       "Meal       bicycle                      42.141344          13.838657   \n",
       "           electric_scooter             67.047671          17.055607   \n",
       "           motorcycle                   70.372653          17.431820   \n",
       "           scooter                      70.410435          17.622004   \n",
       "Snack      bicycle                      22.935009          18.590544   \n",
       "           electric_scooter             68.629053          16.955864   \n",
       "           motorcycle                   70.972460          17.670488   \n",
       "           scooter                      69.748848          17.257927   \n",
       "\n",
       "                             Customer_longitude       Time  \n",
       "Order_Type Vehicle                                          \n",
       "Buffet     bicycle                    56.830768  25.933333  \n",
       "           electric_scooter           70.284393  24.256628  \n",
       "           motorcycle                 71.036822  27.566945  \n",
       "           scooter                    70.442824  24.526697  \n",
       "Drinks     bicycle                    78.164646  25.562500  \n",
       "           electric_scooter           71.537298  24.630137  \n",
       "           motorcycle                 71.019690  27.395591  \n",
       "           scooter                    70.837042  24.514771  \n",
       "Meal       bicycle                    62.238512  27.260870  \n",
       "           electric_scooter           68.717619  24.540084  \n",
       "           motorcycle                 70.743111  27.712183  \n",
       "           scooter                    71.236062  24.632115  \n",
       "Snack      bicycle                    79.472047  26.571429  \n",
       "           electric_scooter           69.334919  24.452772  \n",
       "           motorcycle                 71.408553  27.743798  \n",
       "           scooter                    70.361451  24.254494  "
      ]
     },
     "execution_count": 101,
     "metadata": {},
     "output_type": "execute_result"
    }
   ],
   "source": [
    "delivery.groupby( [\"Order_Type\", \"Vehicle\"] ).mean(\"Rider_Ratings\")"
   ]
  },
  {
   "cell_type": "markdown",
   "metadata": {},
   "source": [
    "We can also view data in a specific group using `get_group`."
   ]
  },
  {
   "cell_type": "code",
   "execution_count": 102,
   "metadata": {},
   "outputs": [
    {
     "data": {
      "text/html": [
       "<div>\n",
       "<style scoped>\n",
       "    .dataframe tbody tr th:only-of-type {\n",
       "        vertical-align: middle;\n",
       "    }\n",
       "\n",
       "    .dataframe tbody tr th {\n",
       "        vertical-align: top;\n",
       "    }\n",
       "\n",
       "    .dataframe thead th {\n",
       "        text-align: right;\n",
       "    }\n",
       "</style>\n",
       "<table border=\"1\" class=\"dataframe\">\n",
       "  <thead>\n",
       "    <tr style=\"text-align: right;\">\n",
       "      <th></th>\n",
       "      <th>ID</th>\n",
       "      <th>Rider_ID</th>\n",
       "      <th>Rider_Age</th>\n",
       "      <th>Rider_Ratings</th>\n",
       "      <th>Restaurant_latitude</th>\n",
       "      <th>Restaurant_longitude</th>\n",
       "      <th>Customer_latitude</th>\n",
       "      <th>Customer_longitude</th>\n",
       "      <th>Order_Type</th>\n",
       "      <th>Vehicle</th>\n",
       "      <th>Time</th>\n",
       "    </tr>\n",
       "  </thead>\n",
       "  <tbody>\n",
       "    <tr>\n",
       "      <th>2</th>\n",
       "      <td>5D6D</td>\n",
       "      <td>BANGRES19DEL01</td>\n",
       "      <td>23</td>\n",
       "      <td>4.4</td>\n",
       "      <td>12.914264</td>\n",
       "      <td>77.678400</td>\n",
       "      <td>12.924264</td>\n",
       "      <td>77.688400</td>\n",
       "      <td>Drinks</td>\n",
       "      <td>motorcycle</td>\n",
       "      <td>26</td>\n",
       "    </tr>\n",
       "    <tr>\n",
       "      <th>29</th>\n",
       "      <td>2999999999999999848161405891222056600890935033...</td>\n",
       "      <td>COIMBRES02DEL03</td>\n",
       "      <td>31</td>\n",
       "      <td>4.8</td>\n",
       "      <td>11.022477</td>\n",
       "      <td>76.995667</td>\n",
       "      <td>11.052477</td>\n",
       "      <td>77.025667</td>\n",
       "      <td>Drinks</td>\n",
       "      <td>motorcycle</td>\n",
       "      <td>26</td>\n",
       "    </tr>\n",
       "    <tr>\n",
       "      <th>30</th>\n",
       "      <td>BFF</td>\n",
       "      <td>SURRES16DEL02</td>\n",
       "      <td>36</td>\n",
       "      <td>4.1</td>\n",
       "      <td>21.160437</td>\n",
       "      <td>72.774209</td>\n",
       "      <td>21.210437</td>\n",
       "      <td>72.824209</td>\n",
       "      <td>Drinks</td>\n",
       "      <td>motorcycle</td>\n",
       "      <td>22</td>\n",
       "    </tr>\n",
       "    <tr>\n",
       "      <th>48</th>\n",
       "      <td>A30B</td>\n",
       "      <td>CHENRES11DEL01</td>\n",
       "      <td>37</td>\n",
       "      <td>4.8</td>\n",
       "      <td>13.064181</td>\n",
       "      <td>80.236442</td>\n",
       "      <td>13.104181</td>\n",
       "      <td>80.276442</td>\n",
       "      <td>Drinks</td>\n",
       "      <td>motorcycle</td>\n",
       "      <td>26</td>\n",
       "    </tr>\n",
       "    <tr>\n",
       "      <th>53</th>\n",
       "      <td>7AC8</td>\n",
       "      <td>COIMBRES14DEL02</td>\n",
       "      <td>28</td>\n",
       "      <td>4.8</td>\n",
       "      <td>11.003681</td>\n",
       "      <td>76.975525</td>\n",
       "      <td>11.083681</td>\n",
       "      <td>77.055525</td>\n",
       "      <td>Drinks</td>\n",
       "      <td>motorcycle</td>\n",
       "      <td>36</td>\n",
       "    </tr>\n",
       "    <tr>\n",
       "      <th>...</th>\n",
       "      <td>...</td>\n",
       "      <td>...</td>\n",
       "      <td>...</td>\n",
       "      <td>...</td>\n",
       "      <td>...</td>\n",
       "      <td>...</td>\n",
       "      <td>...</td>\n",
       "      <td>...</td>\n",
       "      <td>...</td>\n",
       "      <td>...</td>\n",
       "      <td>...</td>\n",
       "    </tr>\n",
       "    <tr>\n",
       "      <th>45572</th>\n",
       "      <td>1A92</td>\n",
       "      <td>CHENRES12DEL03</td>\n",
       "      <td>39</td>\n",
       "      <td>4.6</td>\n",
       "      <td>12.972793</td>\n",
       "      <td>80.249982</td>\n",
       "      <td>13.062793</td>\n",
       "      <td>80.339982</td>\n",
       "      <td>Drinks</td>\n",
       "      <td>motorcycle</td>\n",
       "      <td>48</td>\n",
       "    </tr>\n",
       "    <tr>\n",
       "      <th>45574</th>\n",
       "      <td>90C5</td>\n",
       "      <td>MUMRES20DEL03</td>\n",
       "      <td>21</td>\n",
       "      <td>4.8</td>\n",
       "      <td>19.103249</td>\n",
       "      <td>72.846749</td>\n",
       "      <td>19.133249</td>\n",
       "      <td>72.876749</td>\n",
       "      <td>Drinks</td>\n",
       "      <td>motorcycle</td>\n",
       "      <td>22</td>\n",
       "    </tr>\n",
       "    <tr>\n",
       "      <th>45576</th>\n",
       "      <td>2BED</td>\n",
       "      <td>RANCHIRES02DEL02</td>\n",
       "      <td>34</td>\n",
       "      <td>4.2</td>\n",
       "      <td>0.000000</td>\n",
       "      <td>0.000000</td>\n",
       "      <td>0.130000</td>\n",
       "      <td>0.130000</td>\n",
       "      <td>Drinks</td>\n",
       "      <td>motorcycle</td>\n",
       "      <td>48</td>\n",
       "    </tr>\n",
       "    <tr>\n",
       "      <th>45581</th>\n",
       "      <td>51F0</td>\n",
       "      <td>SURRES02DEL03</td>\n",
       "      <td>20</td>\n",
       "      <td>4.9</td>\n",
       "      <td>21.186608</td>\n",
       "      <td>72.794136</td>\n",
       "      <td>21.216608</td>\n",
       "      <td>72.824136</td>\n",
       "      <td>Drinks</td>\n",
       "      <td>motorcycle</td>\n",
       "      <td>18</td>\n",
       "    </tr>\n",
       "    <tr>\n",
       "      <th>45587</th>\n",
       "      <td>1178</td>\n",
       "      <td>RANCHIRES16DEL01</td>\n",
       "      <td>35</td>\n",
       "      <td>4.2</td>\n",
       "      <td>23.371292</td>\n",
       "      <td>85.327872</td>\n",
       "      <td>23.481292</td>\n",
       "      <td>85.437872</td>\n",
       "      <td>Drinks</td>\n",
       "      <td>motorcycle</td>\n",
       "      <td>33</td>\n",
       "    </tr>\n",
       "  </tbody>\n",
       "</table>\n",
       "<p>6532 rows × 11 columns</p>\n",
       "</div>"
      ],
      "text/plain": [
       "                                                      ID          Rider_ID  \\\n",
       "2                                                   5D6D    BANGRES19DEL01   \n",
       "29     2999999999999999848161405891222056600890935033...   COIMBRES02DEL03   \n",
       "30                                                   BFF     SURRES16DEL02   \n",
       "48                                                  A30B    CHENRES11DEL01   \n",
       "53                                                  7AC8   COIMBRES14DEL02   \n",
       "...                                                  ...               ...   \n",
       "45572                                               1A92    CHENRES12DEL03   \n",
       "45574                                               90C5     MUMRES20DEL03   \n",
       "45576                                               2BED  RANCHIRES02DEL02   \n",
       "45581                                               51F0     SURRES02DEL03   \n",
       "45587                                               1178  RANCHIRES16DEL01   \n",
       "\n",
       "       Rider_Age  Rider_Ratings  Restaurant_latitude  Restaurant_longitude  \\\n",
       "2             23            4.4            12.914264             77.678400   \n",
       "29            31            4.8            11.022477             76.995667   \n",
       "30            36            4.1            21.160437             72.774209   \n",
       "48            37            4.8            13.064181             80.236442   \n",
       "53            28            4.8            11.003681             76.975525   \n",
       "...          ...            ...                  ...                   ...   \n",
       "45572         39            4.6            12.972793             80.249982   \n",
       "45574         21            4.8            19.103249             72.846749   \n",
       "45576         34            4.2             0.000000              0.000000   \n",
       "45581         20            4.9            21.186608             72.794136   \n",
       "45587         35            4.2            23.371292             85.327872   \n",
       "\n",
       "       Customer_latitude  Customer_longitude Order_Type     Vehicle  Time  \n",
       "2              12.924264           77.688400     Drinks  motorcycle    26  \n",
       "29             11.052477           77.025667     Drinks  motorcycle    26  \n",
       "30             21.210437           72.824209     Drinks  motorcycle    22  \n",
       "48             13.104181           80.276442     Drinks  motorcycle    26  \n",
       "53             11.083681           77.055525     Drinks  motorcycle    36  \n",
       "...                  ...                 ...        ...         ...   ...  \n",
       "45572          13.062793           80.339982     Drinks  motorcycle    48  \n",
       "45574          19.133249           72.876749     Drinks  motorcycle    22  \n",
       "45576           0.130000            0.130000     Drinks  motorcycle    48  \n",
       "45581          21.216608           72.824136     Drinks  motorcycle    18  \n",
       "45587          23.481292           85.437872     Drinks  motorcycle    33  \n",
       "\n",
       "[6532 rows x 11 columns]"
      ]
     },
     "execution_count": 102,
     "metadata": {},
     "output_type": "execute_result"
    }
   ],
   "source": [
    "delivery[(delivery[\"Vehicle\"] == \"motorcycle\") & (delivery[\"Order_Type\"] == \"Drinks\")]"
   ]
  },
  {
   "cell_type": "code",
   "execution_count": 103,
   "metadata": {},
   "outputs": [
    {
     "data": {
      "text/html": [
       "<div>\n",
       "<style scoped>\n",
       "    .dataframe tbody tr th:only-of-type {\n",
       "        vertical-align: middle;\n",
       "    }\n",
       "\n",
       "    .dataframe tbody tr th {\n",
       "        vertical-align: top;\n",
       "    }\n",
       "\n",
       "    .dataframe thead th {\n",
       "        text-align: right;\n",
       "    }\n",
       "</style>\n",
       "<table border=\"1\" class=\"dataframe\">\n",
       "  <thead>\n",
       "    <tr style=\"text-align: right;\">\n",
       "      <th></th>\n",
       "      <th>ID</th>\n",
       "      <th>Rider_ID</th>\n",
       "      <th>Rider_Age</th>\n",
       "      <th>Rider_Ratings</th>\n",
       "      <th>Restaurant_latitude</th>\n",
       "      <th>Restaurant_longitude</th>\n",
       "      <th>Customer_latitude</th>\n",
       "      <th>Customer_longitude</th>\n",
       "      <th>Order_Type</th>\n",
       "      <th>Vehicle</th>\n",
       "      <th>Time</th>\n",
       "    </tr>\n",
       "  </thead>\n",
       "  <tbody>\n",
       "    <tr>\n",
       "      <th>2</th>\n",
       "      <td>5D6D</td>\n",
       "      <td>BANGRES19DEL01</td>\n",
       "      <td>23</td>\n",
       "      <td>4.4</td>\n",
       "      <td>12.914264</td>\n",
       "      <td>77.678400</td>\n",
       "      <td>12.924264</td>\n",
       "      <td>77.688400</td>\n",
       "      <td>Drinks</td>\n",
       "      <td>motorcycle</td>\n",
       "      <td>26</td>\n",
       "    </tr>\n",
       "    <tr>\n",
       "      <th>29</th>\n",
       "      <td>2999999999999999848161405891222056600890935033...</td>\n",
       "      <td>COIMBRES02DEL03</td>\n",
       "      <td>31</td>\n",
       "      <td>4.8</td>\n",
       "      <td>11.022477</td>\n",
       "      <td>76.995667</td>\n",
       "      <td>11.052477</td>\n",
       "      <td>77.025667</td>\n",
       "      <td>Drinks</td>\n",
       "      <td>motorcycle</td>\n",
       "      <td>26</td>\n",
       "    </tr>\n",
       "    <tr>\n",
       "      <th>30</th>\n",
       "      <td>BFF</td>\n",
       "      <td>SURRES16DEL02</td>\n",
       "      <td>36</td>\n",
       "      <td>4.1</td>\n",
       "      <td>21.160437</td>\n",
       "      <td>72.774209</td>\n",
       "      <td>21.210437</td>\n",
       "      <td>72.824209</td>\n",
       "      <td>Drinks</td>\n",
       "      <td>motorcycle</td>\n",
       "      <td>22</td>\n",
       "    </tr>\n",
       "    <tr>\n",
       "      <th>48</th>\n",
       "      <td>A30B</td>\n",
       "      <td>CHENRES11DEL01</td>\n",
       "      <td>37</td>\n",
       "      <td>4.8</td>\n",
       "      <td>13.064181</td>\n",
       "      <td>80.236442</td>\n",
       "      <td>13.104181</td>\n",
       "      <td>80.276442</td>\n",
       "      <td>Drinks</td>\n",
       "      <td>motorcycle</td>\n",
       "      <td>26</td>\n",
       "    </tr>\n",
       "    <tr>\n",
       "      <th>53</th>\n",
       "      <td>7AC8</td>\n",
       "      <td>COIMBRES14DEL02</td>\n",
       "      <td>28</td>\n",
       "      <td>4.8</td>\n",
       "      <td>11.003681</td>\n",
       "      <td>76.975525</td>\n",
       "      <td>11.083681</td>\n",
       "      <td>77.055525</td>\n",
       "      <td>Drinks</td>\n",
       "      <td>motorcycle</td>\n",
       "      <td>36</td>\n",
       "    </tr>\n",
       "    <tr>\n",
       "      <th>...</th>\n",
       "      <td>...</td>\n",
       "      <td>...</td>\n",
       "      <td>...</td>\n",
       "      <td>...</td>\n",
       "      <td>...</td>\n",
       "      <td>...</td>\n",
       "      <td>...</td>\n",
       "      <td>...</td>\n",
       "      <td>...</td>\n",
       "      <td>...</td>\n",
       "      <td>...</td>\n",
       "    </tr>\n",
       "    <tr>\n",
       "      <th>45572</th>\n",
       "      <td>1A92</td>\n",
       "      <td>CHENRES12DEL03</td>\n",
       "      <td>39</td>\n",
       "      <td>4.6</td>\n",
       "      <td>12.972793</td>\n",
       "      <td>80.249982</td>\n",
       "      <td>13.062793</td>\n",
       "      <td>80.339982</td>\n",
       "      <td>Drinks</td>\n",
       "      <td>motorcycle</td>\n",
       "      <td>48</td>\n",
       "    </tr>\n",
       "    <tr>\n",
       "      <th>45574</th>\n",
       "      <td>90C5</td>\n",
       "      <td>MUMRES20DEL03</td>\n",
       "      <td>21</td>\n",
       "      <td>4.8</td>\n",
       "      <td>19.103249</td>\n",
       "      <td>72.846749</td>\n",
       "      <td>19.133249</td>\n",
       "      <td>72.876749</td>\n",
       "      <td>Drinks</td>\n",
       "      <td>motorcycle</td>\n",
       "      <td>22</td>\n",
       "    </tr>\n",
       "    <tr>\n",
       "      <th>45576</th>\n",
       "      <td>2BED</td>\n",
       "      <td>RANCHIRES02DEL02</td>\n",
       "      <td>34</td>\n",
       "      <td>4.2</td>\n",
       "      <td>0.000000</td>\n",
       "      <td>0.000000</td>\n",
       "      <td>0.130000</td>\n",
       "      <td>0.130000</td>\n",
       "      <td>Drinks</td>\n",
       "      <td>motorcycle</td>\n",
       "      <td>48</td>\n",
       "    </tr>\n",
       "    <tr>\n",
       "      <th>45581</th>\n",
       "      <td>51F0</td>\n",
       "      <td>SURRES02DEL03</td>\n",
       "      <td>20</td>\n",
       "      <td>4.9</td>\n",
       "      <td>21.186608</td>\n",
       "      <td>72.794136</td>\n",
       "      <td>21.216608</td>\n",
       "      <td>72.824136</td>\n",
       "      <td>Drinks</td>\n",
       "      <td>motorcycle</td>\n",
       "      <td>18</td>\n",
       "    </tr>\n",
       "    <tr>\n",
       "      <th>45587</th>\n",
       "      <td>1178</td>\n",
       "      <td>RANCHIRES16DEL01</td>\n",
       "      <td>35</td>\n",
       "      <td>4.2</td>\n",
       "      <td>23.371292</td>\n",
       "      <td>85.327872</td>\n",
       "      <td>23.481292</td>\n",
       "      <td>85.437872</td>\n",
       "      <td>Drinks</td>\n",
       "      <td>motorcycle</td>\n",
       "      <td>33</td>\n",
       "    </tr>\n",
       "  </tbody>\n",
       "</table>\n",
       "<p>6532 rows × 11 columns</p>\n",
       "</div>"
      ],
      "text/plain": [
       "                                                      ID          Rider_ID  \\\n",
       "2                                                   5D6D    BANGRES19DEL01   \n",
       "29     2999999999999999848161405891222056600890935033...   COIMBRES02DEL03   \n",
       "30                                                   BFF     SURRES16DEL02   \n",
       "48                                                  A30B    CHENRES11DEL01   \n",
       "53                                                  7AC8   COIMBRES14DEL02   \n",
       "...                                                  ...               ...   \n",
       "45572                                               1A92    CHENRES12DEL03   \n",
       "45574                                               90C5     MUMRES20DEL03   \n",
       "45576                                               2BED  RANCHIRES02DEL02   \n",
       "45581                                               51F0     SURRES02DEL03   \n",
       "45587                                               1178  RANCHIRES16DEL01   \n",
       "\n",
       "       Rider_Age  Rider_Ratings  Restaurant_latitude  Restaurant_longitude  \\\n",
       "2             23            4.4            12.914264             77.678400   \n",
       "29            31            4.8            11.022477             76.995667   \n",
       "30            36            4.1            21.160437             72.774209   \n",
       "48            37            4.8            13.064181             80.236442   \n",
       "53            28            4.8            11.003681             76.975525   \n",
       "...          ...            ...                  ...                   ...   \n",
       "45572         39            4.6            12.972793             80.249982   \n",
       "45574         21            4.8            19.103249             72.846749   \n",
       "45576         34            4.2             0.000000              0.000000   \n",
       "45581         20            4.9            21.186608             72.794136   \n",
       "45587         35            4.2            23.371292             85.327872   \n",
       "\n",
       "       Customer_latitude  Customer_longitude Order_Type     Vehicle  Time  \n",
       "2              12.924264           77.688400     Drinks  motorcycle    26  \n",
       "29             11.052477           77.025667     Drinks  motorcycle    26  \n",
       "30             21.210437           72.824209     Drinks  motorcycle    22  \n",
       "48             13.104181           80.276442     Drinks  motorcycle    26  \n",
       "53             11.083681           77.055525     Drinks  motorcycle    36  \n",
       "...                  ...                 ...        ...         ...   ...  \n",
       "45572          13.062793           80.339982     Drinks  motorcycle    48  \n",
       "45574          19.133249           72.876749     Drinks  motorcycle    22  \n",
       "45576           0.130000            0.130000     Drinks  motorcycle    48  \n",
       "45581          21.216608           72.824136     Drinks  motorcycle    18  \n",
       "45587          23.481292           85.437872     Drinks  motorcycle    33  \n",
       "\n",
       "[6532 rows x 11 columns]"
      ]
     },
     "execution_count": 103,
     "metadata": {},
     "output_type": "execute_result"
    }
   ],
   "source": [
    "delivery.groupby( [\"Order_Type\", \"Vehicle\"] ).get_group( (\"Drinks\", \"motorcycle\") )"
   ]
  },
  {
   "cell_type": "markdown",
   "metadata": {
    "id": "oCJCeQIaq-hC"
   },
   "source": [
    "As mentioned, however, we typically want to apply some operation to the GroupBy object.\n",
    "\n",
    "__EXERCISE:__ \n",
    "\n",
    "Find the median delivery times for this dataset, grouped by vehicle types. "
   ]
  },
  {
   "cell_type": "code",
   "execution_count": 104,
   "metadata": {},
   "outputs": [
    {
     "data": {
      "text/plain": [
       "Vehicle\n",
       "bicycle             26.0\n",
       "electric_scooter    24.0\n",
       "motorcycle          26.0\n",
       "scooter             24.0\n",
       "Name: Time, dtype: float64"
      ]
     },
     "execution_count": 104,
     "metadata": {},
     "output_type": "execute_result"
    }
   ],
   "source": [
    "# TODO\n",
    "delivery.groupby( \"Vehicle\" )[\"Time\"].median()"
   ]
  },
  {
   "cell_type": "markdown",
   "metadata": {},
   "source": [
    "### Filtering Rows\n",
    "\n",
    "Another useful operation is filtering rows, which is usually done as an indexing operation as we learned previously. We specify as index, a condition involving the values in certain column, e.g.:\n",
    "\n",
    "- `delivery[\"Vehicle\"] == \"scooter\"` or\n",
    "- `delivery[\"Rider_Age\"] > 25`\n",
    "\n",
    "These are arithmetic expressions which will be evaluated element-wise on the columns `delivery[\"Vehicle\"]` or `delivery[\"Rider_Age\"]`, resulting in a Series of boolean values: `True` for rows fulfilling the condition and `False` otherwise. Indexing `delivery` using this boolean Series will select only rows corresponding to `True` values.\n",
    "\n",
    "__EXERCISE:__ \n",
    "\n",
    "An order just came in and we are looking for riders on scooters to assign it to. How many riders can we choose from?\n",
    "\n",
    "_Hint:_ After filtering, what is the column we should be looking at? What Series function can you use to obtain the unique count?"
   ]
  },
  {
   "cell_type": "code",
   "execution_count": 105,
   "metadata": {},
   "outputs": [
    {
     "data": {
      "text/plain": [
       "1316"
      ]
     },
     "execution_count": 105,
     "metadata": {},
     "output_type": "execute_result"
    }
   ],
   "source": [
    "# TODO\n",
    "scooters = delivery[ delivery[\"Vehicle\"] == \"scooter\" ]\n",
    "scooters[\"Rider_ID\"].nunique()"
   ]
  },
  {
   "cell_type": "markdown",
   "metadata": {},
   "source": [
    "__EXERCISE:__ \n",
    "\n",
    "How many of these scooter riders have achieved ratings higher than the median of this group?"
   ]
  },
  {
   "cell_type": "code",
   "execution_count": 106,
   "metadata": {},
   "outputs": [
    {
     "data": {
      "text/plain": [
       "1227"
      ]
     },
     "execution_count": 106,
     "metadata": {},
     "output_type": "execute_result"
    }
   ],
   "source": [
    "# TODO\n",
    "goodScooters = scooters[ scooters[\"Rider_Ratings\"] > scooters[\"Rider_Ratings\"].median() ]\n",
    "goodScooters[\"Rider_ID\"].nunique()"
   ]
  },
  {
   "cell_type": "markdown",
   "metadata": {},
   "source": [
    "__EXERCISE:__ \n",
    "\n",
    "What is the highest ratings that scooter riders have achieved? Show the IDs of all scooter riders who have achieved it."
   ]
  },
  {
   "cell_type": "code",
   "execution_count": 107,
   "metadata": {},
   "outputs": [
    {
     "name": "stdout",
     "output_type": "stream",
     "text": [
      "Highest rating: 6.0\n"
     ]
    },
    {
     "data": {
      "text/plain": [
       "array(['JAPRES08DEL01', 'AGRRES13DEL02', 'MYSRES15DEL02',\n",
       "       'BANGRES010DEL01', 'DEHRES18DEL02', 'SURRES02DEL02',\n",
       "       'MYSRES06DEL02', 'RANCHIRES06DEL02', 'BHPRES08DEL03',\n",
       "       'ALHRES08DEL03', 'KNPRES16DEL02', 'MUMRES20DEL01', 'VADRES09DEL02',\n",
       "       'KNPRES03DEL03', 'KOLRES06DEL02', 'CHENRES14DEL02',\n",
       "       'VADRES17DEL01', 'KNPRES19DEL03', 'INDORES11DEL03'], dtype=object)"
      ]
     },
     "execution_count": 107,
     "metadata": {},
     "output_type": "execute_result"
    }
   ],
   "source": [
    "# TODO\n",
    "maxScooters = scooters[\"Rider_Ratings\"].max()\n",
    "print( \"Highest rating:\", maxScooters )\n",
    "scooters[ scooters[\"Rider_Ratings\"] == maxScooters ][\"Rider_ID\"].unique()"
   ]
  },
  {
   "cell_type": "markdown",
   "metadata": {},
   "source": [
    "As a final exercise in this section, suppose we pick any scooter rider who have achieved ratings higher than the median to deliver all orders. Consider how we may satisfactorily estimate a delivery time to inform the customers.\n",
    "\n",
    "__EXERCISE:__\n",
    "\n",
    "First, let's try to obtain the summary statistics for the delivery time of this group."
   ]
  },
  {
   "cell_type": "code",
   "execution_count": 108,
   "metadata": {},
   "outputs": [
    {
     "data": {
      "text/plain": [
       "count    6371.000000\n",
       "mean       22.323026\n",
       "std         7.513496\n",
       "min        10.000000\n",
       "25%        16.000000\n",
       "50%        22.000000\n",
       "75%        27.000000\n",
       "max        49.000000\n",
       "Name: Time, dtype: float64"
      ]
     },
     "execution_count": 108,
     "metadata": {},
     "output_type": "execute_result"
    }
   ],
   "source": [
    "# TODO\n",
    "goodScooters[\"Time\"].describe()"
   ]
  },
  {
   "cell_type": "markdown",
   "metadata": {},
   "source": [
    "If the mean and median (equal to the 50% percentile) values are close, we might think it would be a reasonable estimate to provide. But what will happen if we give this estimate to all customers? Clearly about half the customers would be upset because they would not receive their food within this time.\n",
    "\n",
    "So should we take the maximum delivery time, and provide a guaranteed delivery time of `max`? We may soon lose many customers as most people would not want to wait that long for their food.\n",
    "\n",
    "Instead, looking at the delivery time distribution, using a histogram, may guide our estimate better.\n",
    "\n",
    "__EXERCISE:__\n",
    "\n",
    "Use the `Series.hist` function to draw the histogram of delivery time."
   ]
  },
  {
   "cell_type": "code",
   "execution_count": 109,
   "metadata": {},
   "outputs": [
    {
     "data": {
      "text/plain": [
       "<Axes: >"
      ]
     },
     "execution_count": 109,
     "metadata": {},
     "output_type": "execute_result"
    },
    {
     "data": {
      "image/png": "[encoded data removed]",
      "text/plain": [
       "<Figure size 640x480 with 1 Axes>"
      ]
     },
     "metadata": {},
     "output_type": "display_data"
    }
   ],
   "source": [
    "# TODO\n",
    "goodScooters[\"Time\"].hist()"
   ]
  },
  {
   "cell_type": "markdown",
   "metadata": {},
   "source": [
    "Using the histogram, we can verify the time duration in which most orders can be delivered. On the rare occasions that it takes longer, it could be because the restaurants are overcrowded, or the traffic jams are worse than usual.\n",
    "\n",
    "We could then determine a reasonable time range to provide to customers, and inform them that it might take longer in certain unexpected situations."
   ]
  },
  {
   "cell_type": "markdown",
   "metadata": {
    "id": "GK98NTRUGR0s"
   },
   "source": [
    "# Probability Distributions with Scipy\n",
    "\n",
    "A _probability distribution_ describes phenomena that are influenced by random processes: naturally occurring random processes; or uncertainties caused by incomplete knowledge.\n",
    "\n",
    "The outcomes of a random process are called a _random variable, X_. The _distribution function_ maps probabilities to the occurrences of X.\n",
    "\n",
    "SciPy counts 104 continuous and 19 discrete distributions that can be instantiated in its `stats.rv_continuous` and `stats.rv_discrete` classes. Discrete distributions deal with countable outcomes, such as customers arriving at a counter. Continuous distributions compute the probability of occurrences between two outcomes or points on the x-axis, such as variations in height, temperature, or time.\n",
    "\n",
    "Distributions related to engineering and technology, which attempt to model, for instance, the lifetime or time to failure of equipment, as well as in biology and pharmaceutics, have blossomed in recent years, driven by the fast increasing availability of sensor data and other large sources of quantifiable information."
   ]
  },
  {
   "cell_type": "markdown",
   "metadata": {
    "id": "GK98NTRUGR0s"
   },
   "source": [
    "## Normal Distribution\n",
    "\n",
    "The normal distribution, also called the Gaussian distribution, is a continuous probability distribution that is symmetric around its mean. It is arguably the most famous distribution due to its mathematical properties and its ability to describe many natural phenomena. It is typically great for mapping population data, for example, household income distribution. \n",
    "\n",
    "The normal distribution is characterized by two parameters: \n",
    "- the _mean (μ)_, which represents the central tendency of the distribution; and\n",
    "- the _standard deviation (σ)_, which measures the spread or dispersion of the data.\n",
    "By knowing these two parameters, we can fully describe a normal distribution.\n",
    "\n",
    "#### Distribution Fitting\n",
    "\n",
    "Fitting a normal distribution to a dataset allows us to estimate these parameters from the dataset. The `norm.fit` function in `scipy.stats` takes an array-like object as input and returns the maximum likelihood estimates (MLE) for the mean and standard deviation of the underlying distribution.\n",
    "\n",
    "Let us fit a normal distribution to our observed dataset of delivery time. To use the SciPy function, we need this data in NumPy array format.\n",
    "\n",
    "__EXERCISE:__\n",
    "\n",
    "Convert the delivery time data into a NumPy array. "
   ]
  },
  {
   "cell_type": "code",
   "execution_count": 110,
   "metadata": {},
   "outputs": [
    {
     "data": {
      "text/plain": [
       "0        24\n",
       "1        33\n",
       "2        26\n",
       "3        21\n",
       "4        30\n",
       "         ..\n",
       "45588    32\n",
       "45589    36\n",
       "45590    16\n",
       "45591    26\n",
       "45592    36\n",
       "Name: Time, Length: 45593, dtype: int64"
      ]
     },
     "execution_count": 110,
     "metadata": {},
     "output_type": "execute_result"
    }
   ],
   "source": [
    "delivery[\"Time\"]"
   ]
  },
  {
   "cell_type": "code",
   "execution_count": 111,
   "metadata": {
    "scrolled": true
   },
   "outputs": [
    {
     "data": {
      "text/plain": [
       "array([24, 33, 26, ..., 16, 26, 36], dtype=int64)"
      ]
     },
     "execution_count": 111,
     "metadata": {},
     "output_type": "execute_result"
    }
   ],
   "source": [
    "# TODO\n",
    "samples = delivery[\"Time\"].to_numpy()\n",
    "samples"
   ]
  },
  {
   "cell_type": "code",
   "execution_count": 112,
   "metadata": {},
   "outputs": [
    {
     "data": {
      "text/plain": [
       "<Axes: ylabel='Count'>"
      ]
     },
     "execution_count": 112,
     "metadata": {},
     "output_type": "execute_result"
    },
    {
     "data": {
      "image/png": "[encoded data removed]",
      "text/plain": [
       "<Figure size 640x480 with 1 Axes>"
      ]
     },
     "metadata": {},
     "output_type": "display_data"
    }
   ],
   "source": [
    "import seaborn as sb\n",
    "\n",
    "sb.histplot(samples)"
   ]
  },
  {
   "cell_type": "markdown",
   "metadata": {},
   "source": [
    "__EXERCISE:__\n",
    "\n",
    "Now use the `norm.fit` function to fit the normal distribution to the data. Note that it returns two values, corresponding to the two parameters."
   ]
  },
  {
   "cell_type": "code",
   "execution_count": 113,
   "metadata": {},
   "outputs": [
    {
     "data": {
      "text/plain": [
       "9.383703236190236"
      ]
     },
     "execution_count": 113,
     "metadata": {},
     "output_type": "execute_result"
    }
   ],
   "source": [
    "samples.std()"
   ]
  },
  {
   "cell_type": "code",
   "execution_count": 114,
   "metadata": {},
   "outputs": [
    {
     "name": "stdout",
     "output_type": "stream",
     "text": [
      "Mean: 26.29460662821047\n",
      "Std: 9.383703236190236\n"
     ]
    }
   ],
   "source": [
    "# TODO\n",
    "mean, std = stats.norm.fit( samples )\n",
    "print( \"Mean:\", mean )\n",
    "print( \"Std:\", std )"
   ]
  },
  {
   "cell_type": "markdown",
   "metadata": {},
   "source": [
    "The mean is an estimator of the center of the distribution. The normal distribution distribution fit by SciPy should have the same center as the mean of the sample, as we have created a sample distribution.\n",
    "\n",
    "__EXERCISE:__\n",
    "\n",
    "Compute the mean of the sample array directly using NumPy, and verify that it has the same center."
   ]
  },
  {
   "cell_type": "code",
   "execution_count": 115,
   "metadata": {},
   "outputs": [
    {
     "data": {
      "text/plain": [
       "26.29460662821047"
      ]
     },
     "execution_count": 115,
     "metadata": {},
     "output_type": "execute_result"
    }
   ],
   "source": [
    "# TODO\n",
    "np.mean( samples )"
   ]
  },
  {
   "cell_type": "code",
   "execution_count": 116,
   "metadata": {},
   "outputs": [
    {
     "data": {
      "image/png": "[encoded data removed]",
      "text/plain": [
       "<Figure size 640x480 with 1 Axes>"
      ]
     },
     "metadata": {},
     "output_type": "display_data"
    }
   ],
   "source": [
    "# comparing the kde plot of underlying data vs the normal approx\n",
    "\n",
    "import matplotlib.pyplot as plt\n",
    "fig, ax = plt.subplots()\n",
    "\n",
    "#create normal distribution curve\n",
    "sb.kdeplot(samples, ax=ax, label=\"actual data\")\n",
    "\n",
    "#create points following the approx normal distr to be plotted\n",
    "normal_samples = np.random.normal(loc = mean, scale = std, size=10000)\n",
    "\n",
    "#create normal distribution curve\n",
    "sb.kdeplot(normal_samples, ax=ax, label=\"normal approx\")\n",
    "\n",
    "ax.legend()\n",
    "plt.show()"
   ]
  },
  {
   "cell_type": "markdown",
   "metadata": {},
   "source": [
    "Distribution of actual sample seems heavy tailed (skewed). A gamma distribution may work better. Refer here:https://en.wikipedia.org/wiki/Gamma_distribution\n",
    "\n",
    "A gamma distribution has 3 parameters: \n",
    "- shape (how skewed)\n",
    "- location (where should the distribution start, usually taken to be min(sample))\n",
    "- scale (how spread out).\n",
    "\n",
    "All 3 parameters can be estimated using scipy"
   ]
  },
  {
   "cell_type": "code",
   "execution_count": 117,
   "metadata": {},
   "outputs": [
    {
     "name": "stdout",
     "output_type": "stream",
     "text": [
      "5.637497915905975 3.4389910391209026 4.054212428384098\n"
     ]
    }
   ],
   "source": [
    "shape, location, scale = stats.gamma.fit(samples)\n",
    "\n",
    "print(shape, location, scale)\n"
   ]
  },
  {
   "cell_type": "code",
   "execution_count": 118,
   "metadata": {},
   "outputs": [
    {
     "data": {
      "image/png": "[encoded data removed]",
      "text/plain": [
       "<Figure size 640x480 with 1 Axes>"
      ]
     },
     "metadata": {},
     "output_type": "display_data"
    }
   ],
   "source": [
    "# comparing the kde plot of underlying data vs the normal approx vs gamma\n",
    "\n",
    "import matplotlib.pyplot as plt\n",
    "fig, ax = plt.subplots()\n",
    "\n",
    "#create normal distribution curve\n",
    "sb.kdeplot(samples, ax=ax, label=\"actual data\")\n",
    "\n",
    "#create points following the approx normal distr to be plotted\n",
    "normal_samples = np.random.normal(loc = mean, scale = std, size=10000)\n",
    "\n",
    "#create normal distribution curve\n",
    "sb.kdeplot(normal_samples, ax=ax, label=\"normal approx\")\n",
    "\n",
    "#create gamma distribution curve\n",
    "gamma_samples = stats.gamma.rvs(a=shape, loc=location, scale=scale, size=10000)\n",
    "sb.kdeplot(gamma_samples, ax=ax, label=\"gamma approx\")\n",
    "\n",
    "ax.legend()\n",
    "plt.show()"
   ]
  },
  {
   "attachments": {
    "c6768fdf-3344-44d6-bd83-1010f0a67e93.png": {
     "image/png": "[encoded data removed]"
    }
   },
   "cell_type": "markdown",
   "metadata": {
    "scrolled": true
   },
   "source": [
    "Suppose the underlying population mean is $\\mu$. \n",
    "\n",
    "We can estimate $\\mu$ from the sample (what we did above). Estimating a parameter using a sample is known as a sample or point estimate, and written as $\\hat{\\mu}$.\n",
    "\n",
    "Denote $\\hat{\\mu}$ and $\\hat{\\sigma}^2$ as the sample estimates for the mean and variance, respectively. \n",
    "\n",
    "We have, by virtue of central limit theorem, $\\frac{\\hat{\\mu} - \\mu}{\\hat{\\sigma}/\\sqrt{n}} \\approx N(0, 1)$ (the standard normal distribution).\n",
    "\n",
    "![image.png](attachment:c6768fdf-3344-44d6-bd83-1010f0a67e93.png)\n",
    "\n",
    "Since the 2.5% and 97.5% quantiles of $N(0,1)$ are -1.96 and 1.96 respectively, we can construct a $95\\%$ $\\text{confidence}$ interval for $\\mu$, as $(\\hat{\\mu} -1.96 \\hat{\\sigma}/\\sqrt{n}, \\hat{\\mu} +1.96 \\hat{\\sigma}/\\sqrt{n})$. \n",
    "\n",
    "\n",
    "In general, a $\\alpha \\%$ $\\text{confidence}$ interval is given by $(\\hat{\\mu} - q_{\\alpha/2} \\hat{\\sigma}/\\sqrt{n}, \\hat{\\mu} +q_{100-\\alpha/2} \\hat{\\sigma}/\\sqrt{n})$, where $q_\\beta$ refers to the $\\beta \\%$ quantile of the standard normal distribution\n"
   ]
  },
  {
   "cell_type": "code",
   "execution_count": 119,
   "metadata": {},
   "outputs": [
    {
     "data": {
      "text/plain": [
       "(26.20847289500122, 26.380740361419722)"
      ]
     },
     "execution_count": 119,
     "metadata": {},
     "output_type": "execute_result"
    }
   ],
   "source": [
    "mu_hat = np.mean( samples )\n",
    "sigma_hat = np.std( samples ) / (len(samples))**0.5\n",
    "\n",
    "from scipy import stats\n",
    "stats.norm.interval(0.95, loc=mu_hat, scale=sigma_hat)"
   ]
  },
  {
   "cell_type": "code",
   "execution_count": 120,
   "metadata": {},
   "outputs": [
    {
     "name": "stdout",
     "output_type": "stream",
     "text": [
      "26.208471312244573 26.380741944176368\n"
     ]
    }
   ],
   "source": [
    "# to verify the CI above\n",
    "\n",
    "lower_bound = mu_hat - 1.96 * sigma_hat\n",
    "upper_bound = mu_hat + 1.96 * sigma_hat\n",
    "\n",
    "print(lower_bound, upper_bound)  # allow for some rounding errors as 1.96 is not the exact quantile :) "
   ]
  },
  {
   "cell_type": "markdown",
   "metadata": {
    "id": "GbEUbei9GR0u",
    "jp-MarkdownHeadingCollapsed": true
   },
   "source": [
    "# Hypothesis Testing using SciPy\n",
    "\n",
    "A statistical test is a decision indicator. For instance, if we have two sets of observations, that we assume are generated from Gaussian processes, we can use a t-test to decide whether the means of two sets of observations are significantly different. \n",
    "\n",
    "Supppose we want to determine whether the average delivery time using motorcycles is significantly different from the mean delivery time of 26 minutes.\n",
    "\n",
    "__EXERCISE:__\n",
    "\n",
    "Obtain the NumPy array containing delivery time data for motorcycles."
   ]
  },
  {
   "cell_type": "code",
   "execution_count": 121,
   "metadata": {},
   "outputs": [
    {
     "data": {
      "text/plain": [
       "array([24, 26, 21, ..., 32, 36, 26], dtype=int64)"
      ]
     },
     "execution_count": 121,
     "metadata": {},
     "output_type": "execute_result"
    }
   ],
   "source": [
    "# TODO\n",
    "motorcycle_samples = delivery[ delivery[\"Vehicle\"] == \"motorcycle\" ][\"Time\"].to_numpy()\n",
    "motorcycle_samples"
   ]
  },
  {
   "cell_type": "markdown",
   "metadata": {
    "id": "GbEUbei9GR0u"
   },
   "source": [
    "Consider the null hypothesis that the expected value (mean) of the motorcycles delivery time samples is equal to the given population mean. The `stats.ttest_1samp` function does two-sided test and returns the t-statistic and p-value.\n",
    "\n",
    "__EXERCISE:__\n",
    "\n",
    "Run the `ttest_1samp` function on the motorcycles delivery time data and given population mean. Let the significance value be 0.05. Can we reject the null hypothesis?"
   ]
  },
  {
   "cell_type": "code",
   "execution_count": 122,
   "metadata": {
    "id": "-VGZ2kgjGR0u"
   },
   "outputs": [
    {
     "data": {
      "text/plain": [
       "TtestResult(statistic=27.059409957536303, pvalue=4.3597985712286377e-159, df=26434)"
      ]
     },
     "execution_count": 122,
     "metadata": {},
     "output_type": "execute_result"
    }
   ],
   "source": [
    "# TODO\n",
    "stats.ttest_1samp( motorcycle_samples, 26 )  # Population mean is ~26 minutes as calculated previously."
   ]
  },
  {
   "cell_type": "markdown",
   "metadata": {},
   "source": [
    "_As p-value <= 0.05, we reject the null hypothesis._"
   ]
  },
  {
   "cell_type": "markdown",
   "metadata": {
    "id": "MzT_j4NEGR0u"
   },
   "source": [
    "Now let us investigate whether the mean delivery time using motorcycles is significantly different from the mean delivery time using bicycles.\n",
    "\n",
    "__EXERCISE:__\n",
    "\n",
    "Obtain the NumPy array containing delivery time data for bicycles."
   ]
  },
  {
   "cell_type": "code",
   "execution_count": 123,
   "metadata": {},
   "outputs": [
    {
     "data": {
      "text/plain": [
       "array([28, 37, 13, 18, 47, 29, 20, 26, 27, 20, 12, 23, 25, 30, 31, 22, 18,\n",
       "       26, 39, 32, 24, 15, 26, 28, 28, 33, 17, 14, 12, 21, 25, 39, 17, 31,\n",
       "       33, 10, 30, 15, 14, 33, 38, 36, 26, 18, 23, 21, 19, 11, 45, 29, 39,\n",
       "       35, 21, 29, 29, 16, 28, 30, 43, 39, 25, 19, 15, 47, 37, 31, 39, 21],\n",
       "      dtype=int64)"
      ]
     },
     "execution_count": 123,
     "metadata": {},
     "output_type": "execute_result"
    }
   ],
   "source": [
    "# TODO\n",
    "bicycle_samples = delivery[ delivery[\"Vehicle\"] == \"bicycle\" ][\"Time\"].to_numpy()\n",
    "bicycle_samples"
   ]
  },
  {
   "cell_type": "markdown",
   "metadata": {
    "id": "MzT_j4NEGR0u"
   },
   "source": [
    "We can use the `stats.ttest_ind` function to do a two-sided test for the null hypothesis that the two independent samples have identical average (expected) values.\n",
    "\n",
    "__EXERCISE:__\n",
    "\n",
    "Run the `ttest_ind` function on the motorcycles delivery time data and the bicycle delivery time data. Let the significance value be 0.05. Can we reject the null hypothesis?"
   ]
  },
  {
   "cell_type": "code",
   "execution_count": 124,
   "metadata": {},
   "outputs": [
    {
     "data": {
      "text/plain": [
       "TtestResult(statistic=1.0483186188927398, pvalue=0.29823794169179335, df=67.37446070485312)"
      ]
     },
     "execution_count": 124,
     "metadata": {},
     "output_type": "execute_result"
    }
   ],
   "source": [
    "# TODO\n",
    "stats.ttest_ind( motorcycle_samples, bicycle_samples, equal_var=False )  # We do not assume equal population variance"
   ]
  },
  {
   "cell_type": "markdown",
   "metadata": {},
   "source": [
    "_As p-value > 0.05, we do not have sufficient evidence to reject the null hypothesis._"
   ]
  }
 ],
 "metadata": {
  "colab": {
   "provenance": []
  },
  "kernelspec": {
   "display_name": "Python 3 (ipykernel)",
   "language": "python",
   "name": "python3"
  },
  "language_info": {
   "codemirror_mode": {
    "name": "ipython",
    "version": 3
   },
   "file_extension": ".py",
   "mimetype": "text/x-python",
   "name": "python",
   "nbconvert_exporter": "python",
   "pygments_lexer": "ipython3",
   "version": "3.11.4"
  }
 },
 "nbformat": 4,
 "nbformat_minor": 4
}
